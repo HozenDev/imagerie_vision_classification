{
  "cells": [
    {
      "cell_type": "markdown",
      "metadata": {
        "id": "lRdYnKBRrQBD"
      },
      "source": [
        "# Installations"
      ]
    },
    {
      "cell_type": "code",
      "execution_count": 1,
      "metadata": {
        "colab": {
          "base_uri": "https://localhost:8080/"
        },
        "id": "KqSKvA2VeQym",
        "outputId": "2ca457b1-4f38-4927-b111-a221e62a0a06"
      },
      "outputs": [
        {
          "output_type": "stream",
          "name": "stdout",
          "text": [
            "  Installing build dependencies ... \u001b[?25l\u001b[?25hdone\n",
            "  Getting requirements to build wheel ... \u001b[?25l\u001b[?25hdone\n",
            "  Preparing metadata (pyproject.toml) ... \u001b[?25l\u001b[?25hdone\n"
          ]
        }
      ],
      "source": [
        "!pip install -q git+https://github.com/huggingface/transformers.git datasets"
      ]
    },
    {
      "cell_type": "code",
      "execution_count": 2,
      "metadata": {
        "id": "XdwJ8QrfKFfx"
      },
      "outputs": [],
      "source": [
        "!pip install -q evaluate"
      ]
    },
    {
      "cell_type": "markdown",
      "metadata": {
        "id": "HoVBx4B8tCIE"
      },
      "source": [
        "# Load Datasets"
      ]
    },
    {
      "cell_type": "code",
      "execution_count": 3,
      "metadata": {
        "colab": {
          "base_uri": "https://localhost:8080/"
        },
        "id": "6KwVKn4IdyrE",
        "outputId": "2acd1bc2-b02c-436f-b852-693b23e4a1a2"
      },
      "outputs": [
        {
          "output_type": "stream",
          "name": "stderr",
          "text": [
            "/usr/local/lib/python3.10/dist-packages/huggingface_hub/utils/_token.py:88: UserWarning: \n",
            "The secret `HF_TOKEN` does not exist in your Colab secrets.\n",
            "To authenticate with the Hugging Face Hub, create a token in your settings tab (https://huggingface.co/settings/tokens), set it as secret in your Google Colab and restart your session.\n",
            "You will be able to reuse this secret in all of your notebooks.\n",
            "Please note that authentication is recommended but still optional to access public models or datasets.\n",
            "  warnings.warn(\n"
          ]
        }
      ],
      "source": [
        "from datasets import load_dataset\n",
        "\n",
        "dataset = load_dataset(\"miladfa7/5-Flower-Types-Classification-Dataset\")"
      ]
    },
    {
      "cell_type": "code",
      "execution_count": 4,
      "metadata": {
        "colab": {
          "base_uri": "https://localhost:8080/"
        },
        "id": "lSJcUhp5KIDG",
        "outputId": "2498ca31-6d81-4d7d-e5c8-645b00102a5b"
      },
      "outputs": [
        {
          "output_type": "execute_result",
          "data": {
            "text/plain": [
              "DatasetDict({\n",
              "    train: Dataset({\n",
              "        features: ['image', 'label'],\n",
              "        num_rows: 4999\n",
              "    })\n",
              "})"
            ]
          },
          "metadata": {},
          "execution_count": 4
        }
      ],
      "source": [
        "dataset"
      ]
    },
    {
      "cell_type": "code",
      "execution_count": 5,
      "metadata": {
        "id": "lVKheRVitWTp"
      },
      "outputs": [],
      "source": [
        "# input labels\n",
        "id2label = {\n",
        "  0: \"Lilly\",\n",
        "  1: \"Lotus\",\n",
        "  2: \"Orchid\",\n",
        "  3: \"Sunflower\",\n",
        "  4: \"Tulip\"\n",
        "}\n",
        "\n",
        "id2color = {\n",
        "    0: \"red\",\n",
        "    1: \"blue\",\n",
        "    2: \"green\",\n",
        "    3: \"black\",\n",
        "    4: \"pink\"\n",
        "}\n",
        "\n",
        "label2id = {\n",
        "  \"Lilly\": 0,\n",
        "  \"Lotus\": 1,\n",
        "  \"Orchid\": 2,\n",
        "  \"Sunflower\": 3,\n",
        "  \"Tulip\": 4\n",
        "}"
      ]
    },
    {
      "cell_type": "markdown",
      "metadata": {
        "id": "Pf-46f5HsvOG"
      },
      "source": [
        "# Preprocessing"
      ]
    },
    {
      "cell_type": "code",
      "execution_count": 6,
      "metadata": {
        "id": "CCo94dKSRR6u"
      },
      "outputs": [],
      "source": [
        "# import the necessary packages\n",
        "import cv2\n",
        "import numpy as np\n",
        "\n",
        "class SimplePreprocessor:\n",
        "\tdef __init__(self, width, height, inter=cv2.INTER_AREA):\n",
        "\t\t# store the target image width, height, and interpolation\n",
        "\t\t# method used when resizing\n",
        "\t\tself.width = width\n",
        "\t\tself.height = height\n",
        "\t\tself.inter = inter\n",
        "\n",
        "\tdef preprocess(self, image):\n",
        "\t\t# resize the image to a fixed size, ignoring the aspect\n",
        "\t\t# ratio\n",
        "\n",
        "\t\timage = cv2.resize(image, (self.width, self.height),\n",
        "                              interpolation=self.inter)\n",
        "\n",
        "\t\treturn image"
      ]
    },
    {
      "cell_type": "markdown",
      "metadata": {
        "id": "-VU9Qnd5szcC"
      },
      "source": [
        "# Data Loader"
      ]
    },
    {
      "cell_type": "code",
      "execution_count": 7,
      "metadata": {
        "id": "MCuSI5nrRY5u"
      },
      "outputs": [],
      "source": [
        "# import the necessary packages\n",
        "import numpy as np\n",
        "import cv2\n",
        "import os\n",
        "\n",
        "class SimpleDatasetLoader:\n",
        "  def __init__(self, preprocessors=None):\n",
        "    # store the image preprocessor\n",
        "    self.preprocessors = preprocessors\n",
        "    # if the preprocessors are None, initialize them as an\n",
        "    # empty list\n",
        "    if self.preprocessors is None:\n",
        "      self.preprocessors = []\n",
        "\n",
        "  def load_path(self, imagePaths, verbose=-1):\n",
        "    # initialize the list of features and labels\n",
        "    data = []\n",
        "    labels = []\n",
        "\n",
        "    # loop over the input images\n",
        "    for (i, imagePath) in enumerate(imagePaths):\n",
        "      # load the image and extract the class label assuming\n",
        "      # that our path has the following format:\n",
        "      # /path/to/dataset/{class}/{image}.jpg\n",
        "      image = cv2.imread(imagePath)\n",
        "      label = imagePath.split(os.path.sep)[-1][0:2]\n",
        "\n",
        "      # check to see if our preprocessors are not None\n",
        "      if self.preprocessors is not None:\n",
        "        # loop over the preprocessors and apply each to\n",
        "        # the image\n",
        "        for p in self.preprocessors:\n",
        "          image = p.preprocess(image)\n",
        "      # treat our processed image as a \"feature vector\"\n",
        "      # by updating the data list followed by the labels\n",
        "      data.append(image)\n",
        "      labels.append(label)\n",
        "      # show an update every `verbose` images\n",
        "      if verbose > 0 and i > 0 and (i + 1) % verbose == 0:\n",
        "        print(\"[INFO] processed {}/{}\".format(i + 1, len(imagePaths)))\n",
        "\n",
        "    # return a tuple of the data and labels\n",
        "    return (np.array(data), np.array(labels))\n",
        "\n",
        "  def load_dataset(self, dataset, id2label, verbose=-1):\n",
        "    # initialize the list of features and labels\n",
        "    data = []\n",
        "    labels = []\n",
        "\n",
        "    # loop over the input images\n",
        "    for (i, img) in enumerate(dataset):\n",
        "      image = np.array(img[\"image\"])\n",
        "      label = id2label[img[\"label\"]]\n",
        "\n",
        "      # check to see if our preprocessors are not None\n",
        "      if self.preprocessors is not None:\n",
        "        # loop over the preprocessors and apply each to\n",
        "        # the image\n",
        "        for p in self.preprocessors:\n",
        "          image = p.preprocess(image)\n",
        "      # treat our processed image as a \"feature vector\"\n",
        "      # by updating the data list followed by the labels\n",
        "      data.append(image)\n",
        "      labels.append(label)\n",
        "      # show an update every `verbose` images\n",
        "      if verbose > 0 and i > 0 and (i + 1) % verbose == 0:\n",
        "        print(\"[INFO] processed {}/{}\".format(i + 1, len(dataset)))\n",
        "\n",
        "    # return a tuple of the data and labels\n",
        "    return (np.array(data), np.array(labels))\n"
      ]
    },
    {
      "cell_type": "markdown",
      "metadata": {
        "id": "rY1Tqq30s4Hv"
      },
      "source": [
        "# Raw KNN"
      ]
    },
    {
      "cell_type": "code",
      "execution_count": 8,
      "metadata": {
        "id": "cb1SA2utwQGd"
      },
      "outputs": [],
      "source": [
        "# import the necessary packages\n",
        "from sklearn.neighbors import KNeighborsClassifier\n",
        "from sklearn.preprocessing import LabelEncoder\n",
        "from sklearn.model_selection import train_test_split\n",
        "from sklearn.metrics import classification_report\n",
        "from imutils import paths\n",
        "import argparse"
      ]
    },
    {
      "cell_type": "code",
      "execution_count": 9,
      "metadata": {
        "id": "0CNdIbukSDDP"
      },
      "outputs": [],
      "source": [
        "# construct the argument parse and parse the arguments\n",
        "args_dataset = \"/content/drive/MyDrive/colab_data/dataset_flower/flowers/flowers\"\n",
        "args_jobs = -1\n",
        "args_neighbors = 1\n",
        "\n",
        "args = {\n",
        "    \"dataset\": args_dataset,\n",
        "    \"jobs\": args_jobs,\n",
        "    \"neighbors\": args_neighbors\n",
        "}"
      ]
    },
    {
      "cell_type": "code",
      "execution_count": 10,
      "metadata": {
        "colab": {
          "base_uri": "https://localhost:8080/"
        },
        "id": "pOQZXBAkScOJ",
        "outputId": "1b3d2167-3bcd-451e-cabe-71374d15ae2d"
      },
      "outputs": [
        {
          "output_type": "stream",
          "name": "stdout",
          "text": [
            "[INFO] loading images...\n",
            "[INFO] processed 500/4999\n",
            "[INFO] processed 1000/4999\n",
            "[INFO] processed 1500/4999\n",
            "[INFO] processed 2000/4999\n",
            "[INFO] processed 2500/4999\n",
            "[INFO] processed 3000/4999\n",
            "[INFO] processed 3500/4999\n",
            "[INFO] processed 4000/4999\n",
            "[INFO] processed 4500/4999\n",
            "[INFO] features matrix: 14.6MB\n",
            "[0 0 0 ... 4 4 4]\n",
            "['Lilly' 'Lotus' 'Orchid' 'Sunflower' 'Tulip']\n"
          ]
        }
      ],
      "source": [
        "# grab the list of images that we'll be describing\n",
        "print(\"[INFO] loading images...\")\n",
        "imagePaths = list(paths.list_images(args[\"dataset\"]))\n",
        "\n",
        "# initialize the image preprocessor, load the dataset from disk,\n",
        "# and reshape the data matrix\n",
        "image_resize_h = 32\n",
        "image_resize_w = 32\n",
        "dimension = 3 # 3 like rgb (tuple), 1 for gray map\n",
        "\n",
        "sp = SimplePreprocessor(image_resize_h, image_resize_w)\n",
        "sdl = SimpleDatasetLoader(preprocessors=[sp])\n",
        "\n",
        "# (data, labels) = sdl.load_path(imagePaths, verbose=50)\n",
        "(data, labels) = sdl.load_dataset(dataset[\"train\"], id2label, verbose=500)\n",
        "\n",
        "data = data.reshape((data.shape[0],\n",
        "                     image_resize_h * image_resize_w * dimension))\n",
        "\n",
        "# show some information on memory consumption of the images\n",
        "print(\"[INFO] features matrix: {:.1f}MB\".format(\n",
        "\tdata.nbytes / (1024 * 1024.0)))\n",
        "\n",
        "# encode the labels as integers\n",
        "le = LabelEncoder()\n",
        "labels = le.fit_transform(labels)\n",
        "\n",
        "print(labels)\n",
        "print(le.classes_)"
      ]
    },
    {
      "cell_type": "code",
      "execution_count": 11,
      "metadata": {
        "id": "ghxIW23Odv1f"
      },
      "outputs": [],
      "source": [
        "# partition the data into training and testing splits using 75% of\n",
        "# the data for training and the remaining 25% for testing\n",
        "(trainX, testX, trainY, testY) = train_test_split(data, labels,\n",
        "                                                  test_size=0.25,\n",
        "                                                  random_state=42)"
      ]
    },
    {
      "cell_type": "code",
      "execution_count": 12,
      "metadata": {
        "colab": {
          "base_uri": "https://localhost:8080/"
        },
        "id": "iazwR61zTaKv",
        "outputId": "d6cb40dd-178b-4ec3-edcb-c55a4adb7c83"
      },
      "outputs": [
        {
          "output_type": "stream",
          "name": "stdout",
          "text": [
            "[INFO] evaluating k-NN classifier...\n",
            "              precision    recall  f1-score   support\n",
            "\n",
            "       Lilly       0.75      0.65      0.70       264\n",
            "       Lotus       0.66      0.79      0.72       248\n",
            "      Orchid       0.71      0.72      0.71       246\n",
            "   Sunflower       0.88      0.77      0.82       246\n",
            "       Tulip       0.68      0.71      0.69       246\n",
            "\n",
            "    accuracy                           0.73      1250\n",
            "   macro avg       0.73      0.73      0.73      1250\n",
            "weighted avg       0.73      0.73      0.73      1250\n",
            "\n"
          ]
        }
      ],
      "source": [
        "# train and evaluate a k-NN classifier on the raw pixel intensities\n",
        "print(\"[INFO] evaluating k-NN classifier...\")\n",
        "\n",
        "model = KNeighborsClassifier(n_neighbors=args[\"neighbors\"],\n",
        "                             n_jobs=args[\"jobs\"])\n",
        "model.fit(trainX, trainY)\n",
        "\n",
        "print(classification_report(testY, model.predict(testX), target_names=le.classes_))"
      ]
    },
    {
      "cell_type": "markdown",
      "metadata": {
        "id": "0B4NL37uwOIN"
      },
      "source": []
    },
    {
      "cell_type": "markdown",
      "metadata": {
        "id": "ulPm5br1rTVt"
      },
      "source": [
        "# Dino V2"
      ]
    },
    {
      "cell_type": "markdown",
      "metadata": {
        "id": "HaN-z2ebrZr2"
      },
      "source": [
        "## Prediction without training"
      ]
    },
    {
      "cell_type": "code",
      "execution_count": 20,
      "metadata": {
        "id": "2nkunNy-tfj0",
        "colab": {
          "base_uri": "https://localhost:8080/"
        },
        "outputId": "f342d850-314e-480d-c2a0-a296f9de376b"
      },
      "outputs": [
        {
          "output_type": "stream",
          "name": "stderr",
          "text": [
            "Some weights of Dinov2ForImageClassification were not initialized from the model checkpoint at facebook/dinov2-base and are newly initialized: ['classifier.bias', 'classifier.weight']\n",
            "You should probably TRAIN this model on a down-stream task to be able to use it for predictions and inference.\n"
          ]
        }
      ],
      "source": [
        "from transformers import Dinov2Model\n",
        "from transformers import AutoImageProcessor, AutoModel, Dinov2ForImageClassification\n",
        "import torch\n",
        "\n",
        "# model = Dinov2Model.from_pretrained(\"facebook/dinov2-base\", id2label=id2label, num_labels=len(id2label))\n",
        "\n",
        "# image_processor = AutoImageProcessor.from_pretrained(\"timm/vit_large_patch14_dinov2.lvd142m\", id2label=id2label, num_labels=len(id2label))\n",
        "# model = Dinov2ForImageClassification.from_pretrained(\"timm/vit_large_patch14_dinov2.lvd142m\", id2label=id2label, num_labels=len(id2label))\n",
        "# dinov2_vits14 = torch.hub.load(\"facebookresearch/dinov2\", \"dinov2_vits14\")\n",
        "\n",
        "image_processor = AutoImageProcessor.from_pretrained('facebook/dinov2-base')\n",
        "model = AutoModel.from_pretrained('facebook/dinov2-base')\n",
        "model_classification = Dinov2ForImageClassification.from_pretrained(\"facebook/dinov2-base\", id2label=id2label)"
      ]
    },
    {
      "cell_type": "code",
      "source": [
        "device = torch.device(\"cuda:0\" if torch.cuda.is_available() else \"cpu\")\n",
        "print(\"Device: \", device)\n",
        "model = model.to(device)"
      ],
      "metadata": {
        "colab": {
          "base_uri": "https://localhost:8080/"
        },
        "id": "FZERA3vrHafk",
        "outputId": "a59c4b47-b5dd-4ed7-e8f4-82811fd4746d"
      },
      "execution_count": 24,
      "outputs": [
        {
          "output_type": "stream",
          "name": "stdout",
          "text": [
            "Device:  cpu\n"
          ]
        }
      ]
    },
    {
      "cell_type": "code",
      "execution_count": 16,
      "metadata": {
        "colab": {
          "base_uri": "https://localhost:8080/"
        },
        "id": "cEDW1b-m7Ofb",
        "outputId": "60569087-7046-4bde-97db-44fdbe322e8c"
      },
      "outputs": [
        {
          "output_type": "stream",
          "name": "stdout",
          "text": [
            "[INFO] processed 500/4999\n",
            "[INFO] processed 1000/4999\n",
            "[INFO] processed 1500/4999\n",
            "[INFO] processed 2000/4999\n",
            "[INFO] processed 2500/4999\n",
            "[INFO] processed 3000/4999\n",
            "[INFO] processed 3500/4999\n",
            "[INFO] processed 4000/4999\n",
            "[INFO] processed 4500/4999\n"
          ]
        }
      ],
      "source": [
        "sp = SimplePreprocessor(image_resize_h, image_resize_w)\n",
        "sdl = SimpleDatasetLoader(preprocessors=[sp])\n",
        "\n",
        "(data, labels) = sdl.load_dataset(dataset[\"train\"], id2label, verbose=500)"
      ]
    },
    {
      "cell_type": "code",
      "execution_count": 17,
      "metadata": {
        "colab": {
          "base_uri": "https://localhost:8080/"
        },
        "id": "ngxFuahH23TC",
        "outputId": "a7b1e2d3-1b72-43db-a784-19992507b43e"
      },
      "outputs": [
        {
          "output_type": "stream",
          "name": "stdout",
          "text": [
            "[INFO] processed 2915/4999\n",
            "[INFO] processed 2457/4999\n",
            "[INFO] processed 4227/4999\n",
            "[INFO] processed 2369/4999\n",
            "[INFO] processed 839/4999\n",
            "[INFO] processed 4998/4999\n",
            "[INFO] processed 4453/4999\n",
            "[INFO] processed 886/4999\n",
            "[INFO] processed 3912/4999\n",
            "[INFO] processed 3464/4999\n",
            "[INFO] processed 4432/4999\n",
            "[INFO] processed 772/4999\n",
            "[INFO] processed 4382/4999\n",
            "[INFO] processed 3216/4999\n",
            "[INFO] processed 1444/4999\n",
            "[INFO] processed 1005/4999\n",
            "[INFO] processed 258/4999\n",
            "[INFO] processed 3199/4999\n",
            "[INFO] processed 4583/4999\n",
            "[INFO] processed 2939/4999\n"
          ]
        }
      ],
      "source": [
        "import numpy as np\n",
        "import random\n",
        "\n",
        "data_tensor = []\n",
        "label_predicted = []\n",
        "label_pretrained = []\n",
        "\n",
        "verbose = 500\n",
        "\n",
        "n_max = 20\n",
        "\n",
        "for i in range(n_max):\n",
        "  image_id = random.randint(0, len(data))\n",
        "  label_pretrained.append(labels[image_id])\n",
        "  image = data[image_id]\n",
        "\n",
        "  inputs = image_processor(image, return_tensors=\"pt\")\n",
        "\n",
        "  with torch.no_grad():\n",
        "    outputs = model(**inputs).last_hidden_state.reshape(1, -1).tolist()\n",
        "    logits = model_classification(**inputs).logits\n",
        "    data_tensor.append(outputs)\n",
        "    label_predicted.append(logits.argmax(-1).item())\n",
        "\n",
        "  print(\"[INFO] processed {}/{}\".format(image_id, dataset[\"train\"].num_rows))"
      ]
    },
    {
      "cell_type": "code",
      "source": [
        "# print(data_tensor)\n",
        "print(label_predicted)\n",
        "print(label_pretrained)\n",
        "\n",
        "results = [label_predicted[i] == label2id[label_pretrained[i]] for i in range(len(label_pretrained))]\n",
        "\n",
        "def compute_accuracy(tab):\n",
        "  somme = 0\n",
        "  for i in results:\n",
        "    if i is True:\n",
        "      somme += 1\n",
        "  return somme/len(results)\n",
        "\n",
        "print(compute_accuracy(results))\n",
        "print([label_predicted[i] == label2id[label_pretrained[i]] for i in range(len(label_pretrained))])"
      ],
      "metadata": {
        "colab": {
          "base_uri": "https://localhost:8080/"
        },
        "id": "EYgMXkLG1L2U",
        "outputId": "6f030799-9dc4-4d2f-883c-9faafe8f2334"
      },
      "execution_count": 18,
      "outputs": [
        {
          "output_type": "stream",
          "name": "stdout",
          "text": [
            "[1, 2, 4, 4, 0, 2, 4, 1, 0, 2, 4, 1, 3, 2, 1, 1, 2, 4, 0, 2]\n",
            "['Orchid', 'Orchid', 'Tulip', 'Orchid', 'Lilly', 'Tulip', 'Tulip', 'Lilly', 'Sunflower', 'Sunflower', 'Tulip', 'Lilly', 'Tulip', 'Sunflower', 'Lotus', 'Lotus', 'Lilly', 'Sunflower', 'Tulip', 'Orchid']\n",
            "0.4\n",
            "[False, True, True, False, True, False, True, False, False, False, True, False, False, False, True, True, False, False, False, True]\n"
          ]
        }
      ]
    },
    {
      "cell_type": "code",
      "execution_count": 19,
      "metadata": {
        "colab": {
          "base_uri": "https://localhost:8080/",
          "height": 843
        },
        "id": "HioWEXBE9KOf",
        "outputId": "44ad630b-4c57-4524-dbab-ad209069bbee"
      },
      "outputs": [
        {
          "output_type": "display_data",
          "data": {
            "text/plain": [
              "<Figure size 640x480 with 1 Axes>"
            ],
            "image/png": "[encoded data removed]"
          },
          "metadata": {}
        },
        {
          "output_type": "display_data",
          "data": {
            "text/plain": [
              "<Figure size 640x480 with 1 Axes>"
            ],
            "image/png": "[encoded data removed]"
          },
          "metadata": {}
        }
      ],
      "source": [
        "import torch\n",
        "import matplotlib.pyplot as plt\n",
        "import numpy as np\n",
        "\n",
        "for i in range(len(data_tensor)):\n",
        "  plt.plot(np.linalg.norm(data_tensor[i]), np.mean(data_tensor[i]), '.', color=id2color[label_predicted[i]]) # easy and simple\n",
        "  #plt.plot(data_tensor[i][0][1], data_tensor[i][0][2], '.', color=id2color[label_predicted[i]]) # easy and simple\n",
        "\n",
        "plt.show()\n",
        "\n",
        "plt.figure()\n",
        "\n",
        "for i in range(len(data_tensor)):\n",
        "  plt.plot(np.linalg.norm(data_tensor[i]), np.mean(data_tensor[i]), '.', color=id2color[label2id[label_pretrained[i]]]) # easy and simple\n",
        "  #plt.plot(data_tensor[i][0][1], data_tensor[i][0][2], '.', color=id2color[label2id[label_pretrained[i]]])\n",
        "\n",
        "plt.show()"
      ]
    },
    {
      "cell_type": "markdown",
      "metadata": {
        "id": "0t3g5yqHep4R"
      },
      "source": [
        "## Training a Model"
      ]
    },
    {
      "cell_type": "code",
      "execution_count": null,
      "metadata": {
        "id": "9Adwuw2DeyRm"
      },
      "outputs": [],
      "source": [
        "import torch\n",
        "from torch.utils.data import DataLoader, random_split\n",
        "from torchvision import datasets, transforms\n",
        "import numpy as np\n",
        "from tqdm import tqdm"
      ]
    },
    {
      "cell_type": "code",
      "execution_count": null,
      "metadata": {
        "id": "QDRGkLw1et7t"
      },
      "outputs": [],
      "source": [
        "def preprocess_dataset(dataset, transform):\n",
        "    # loop over the input images\n",
        "    for (i, img) in enumerate(dataset):\n",
        "      img[\"image\"] = transform(img[\"image\"])\n",
        "\n",
        "      img[\"image\"] = np.array(img[\"image\"])\n",
        "    return dataset\n",
        "\n",
        "\n",
        "# Define a function for loading and transforming image data\n",
        "def load_classification_data(data_dir='data/classification/train'):\n",
        "    # Define transformations: random crop, random flip, convert to tensor, and normalize\n",
        "    transform = transforms.Compose([\n",
        "        transforms.RandomResizedCrop(32),  # Resize and crop the image to a 224x224 square\n",
        "        transforms.RandomHorizontalFlip(),  # Randomly flip the image horizontally\n",
        "        transforms.ToTensor(),  # Convert the image to a tensor\n",
        "        transforms.Normalize([0.485, 0.456, 0.406], [0.229, 0.224, 0.225])  # Normalize the image with mean and standard deviation\n",
        "    ])\n",
        "\n",
        "    # Load the dataset from directory and apply transformations\n",
        "    full_dataset = datasets.ImageFolder(data_dir, transform)\n",
        "    # full_dataset = load_dataset(\"miladfa7/5-Flower-Types-Classification-Dataset\")\n",
        "    # full_dataset = preprocess_dataset(full_dataset[\"train\"], transform)\n",
        "\n",
        "    # Split the full dataset into train and validation sets\n",
        "    train_size = int(0.8 * len(full_dataset))  # 80% of the dataset is used for training\n",
        "    val_size = len(full_dataset) - train_size  # The rest is used for validation\n",
        "\n",
        "    # Randomly split dataset into training and validation dataset\n",
        "    train_dataset, val_dataset = random_split(full_dataset, [train_size, val_size])\n",
        "\n",
        "    # Create data loaders for train and validation sets\n",
        "    # They provide an easy way to iterate over the dataset in mini-batches\n",
        "    train_loader = DataLoader(train_dataset, batch_size=32, shuffle=True)  # Shuffle the training data\n",
        "    val_loader = DataLoader(val_dataset, batch_size=32, shuffle=False)  # No need to shuffle validation data\n",
        "\n",
        "    return {'train': train_loader, 'val': val_loader}  # Return loaders and number of classes in the dataset"
      ]
    },
    {
      "cell_type": "code",
      "execution_count": null,
      "metadata": {
        "id": "wlXj_quhlJeo"
      },
      "outputs": [],
      "source": [
        "def train_classification_model(model, dataloaders, criterion, optimizer, scheduler, device, n_epochs_stop=6):\n",
        "    # Initialize variables\n",
        "    min_val_loss = np.Inf  # Minimum validation loss starts at infinity\n",
        "    epochs_no_improve = 0  # No improvement in epochs counter\n",
        "\n",
        "    # Loop over epochs\n",
        "    for epoch in range(100):\n",
        "        print('Epoch {}/{}'.format(epoch, 100 - 1))\n",
        "        print('-' * 10)\n",
        "\n",
        "        # Each epoch has a training and validation phase\n",
        "        for phase in ['train', 'val']:\n",
        "            if phase == 'train':\n",
        "                model.train()  # Set model to training mode\n",
        "            else:\n",
        "                model.eval()  # Set model to evaluate mode\n",
        "\n",
        "            # Initialize metrics for this phase\n",
        "            running_loss = 0.0  # Accumulate losses over the epoch\n",
        "            correct = 0  # Count correct predictions\n",
        "            total = 0  # Count total predictions\n",
        "\n",
        "            # Use tqdm for progress bar\n",
        "            with tqdm(total=len(dataloaders[phase]), unit='batch') as p:\n",
        "                # Iterate over mini-batches\n",
        "                for inputs, labels in dataloaders[phase]:\n",
        "                    # Move input and label tensors to the default device (GPU or CPU)\n",
        "                    inputs = inputs.to(device)\n",
        "                    labels = labels.to(device)\n",
        "\n",
        "                    # Clear the gradients of all optimized variables\n",
        "                    optimizer.zero_grad()\n",
        "\n",
        "                    # Forward pass: compute predicted outputs by passing inputs to the model\n",
        "                    with torch.set_grad_enabled(phase == 'train'):  # Only calculate gradients in training phase\n",
        "                        outputs = model(inputs)\n",
        "                        _, preds = torch.max(outputs, 1)  # Get the class with the highest probability\n",
        "                        loss = criterion(outputs, labels)  # Compute the loss\n",
        "\n",
        "                        # Perform backward pass and optimization only in the training phase\n",
        "                        if phase == 'train':\n",
        "                            loss.backward()  # Calculate gradients based on the loss\n",
        "                            optimizer.step()  # Update model parameters based on the current gradient\n",
        "\n",
        "                    # Update running loss and correct prediction count\n",
        "                    running_loss += loss.item() * inputs.size(0)  # Multiply average loss by batch size\n",
        "                    total += labels.size(0)\n",
        "                    correct += (preds == labels).sum().item()  # Update correct predictions count\n",
        "\n",
        "                    # Update the progress bar\n",
        "                    p.set_postfix({'loss': loss.item(), 'accuracy': 100 * correct / total})\n",
        "                    p.update(1)\n",
        "\n",
        "                # Calculate loss and accuracy for this epoch\n",
        "                epoch_loss = running_loss / len(dataloaders[phase].dataset)\n",
        "                epoch_acc = 100 * correct / total\n",
        "\n",
        "                print('{} Loss: {:.4f} Acc: {:.2f}%'.format(phase, epoch_loss, epoch_acc))\n",
        "\n",
        "                # Save model and implement early stopping in validation phase\n",
        "                if phase == 'val':\n",
        "                    if epoch_loss < min_val_loss:\n",
        "                        print(f'Validation Loss Decreased({min_val_loss:.6f}--->{epoch_loss:.6f}) \\t Saving The Model')\n",
        "                        min_val_loss = epoch_loss  # Update minimum validation loss\n",
        "                        torch.save(model.state_dict(), 'weights/classification_model.pt')  # Save the current model weights\n",
        "                        epochs_no_improve = 0  # Reset epochs since last improvement\n",
        "                    else:\n",
        "                        epochs_no_improve += 1\n",
        "                        # Implement early stopping\n",
        "                        if epochs_no_improve == n_epochs_stop:\n",
        "                            print('Early stopping!')\n",
        "                            model.load_state_dict(torch.load('weights/classification_model.pt'))  # Load the best model weights\n",
        "                            model.eval()\n",
        "                            return model  # Exit the function early\n",
        "\n",
        "            # Adjust the learning rate based on the scheduler\n",
        "            scheduler.step(epoch_loss)\n",
        "\n",
        "    # Return the trained model\n",
        "    return model"
      ]
    },
    {
      "cell_type": "code",
      "execution_count": null,
      "metadata": {
        "id": "lG2cVEtVe1lw"
      },
      "outputs": [],
      "source": [
        "dataset_load  = load_classification_data(data_dir=\"/content/drive/MyDrive/colab_data/dataset_flower/flower_images\")"
      ]
    },
    {
      "cell_type": "code",
      "execution_count": null,
      "metadata": {
        "colab": {
          "base_uri": "https://localhost:8080/"
        },
        "id": "39b3UF_RkrgL",
        "outputId": "0dffcde0-fdcc-4a92-e4b6-b30b336989be"
      },
      "outputs": [
        {
          "name": "stdout",
          "output_type": "stream",
          "text": [
            "{'train': <torch.utils.data.dataloader.DataLoader object at 0x7af0b2883c40>, 'val': <torch.utils.data.dataloader.DataLoader object at 0x7af0bf27ffa0>}\n"
          ]
        }
      ],
      "source": [
        "print(dataset_load)"
      ]
    },
    {
      "cell_type": "code",
      "execution_count": null,
      "metadata": {
        "colab": {
          "base_uri": "https://localhost:8080/"
        },
        "id": "F6Ag6mOlmfsa",
        "outputId": "28fa043f-0754-4dd8-eac6-1d771cd1470d"
      },
      "outputs": [
        {
          "name": "stdout",
          "output_type": "stream",
          "text": [
            "<torch.utils.data.dataloader.DataLoader object at 0x7af0b2883c40>\n"
          ]
        }
      ],
      "source": [
        "print(dataset_load[\"train\"])"
      ]
    },
    {
      "cell_type": "code",
      "execution_count": null,
      "metadata": {
        "id": "AzwHpYCCk0Bg"
      },
      "outputs": [],
      "source": [
        "# import torch\n",
        "# import torch.nn as nn\n",
        "# import torch.optim as optim\n",
        "# from torch.optim.lr_scheduler import ReduceLROnPlateau\n",
        "\n",
        "# # put model on GPU (set runtime to GPU in Google Colab)\n",
        "# device = \"cuda\" if torch.cuda.is_available() else \"cpu\"\n",
        "# model.to(device)\n",
        "\n",
        "# put model in training mode\n",
        "# model.train()\n",
        "\n",
        "# criterion = nn.CrossEntropyLoss()\n",
        "# optimizer = optim.SGD(model.parameters(), lr=0.001, momentum=0.9)\n",
        "#scheduler = ReduceLROnPlateau(optimizer, 'min', patience=7, verbose=True)\n",
        "# model = train_classification_model(model, dataset_load, criterion, optimizer, scheduler, device)"
      ]
    },
    {
      "cell_type": "markdown",
      "metadata": {
        "id": "SvS7cYHZ-DBH"
      },
      "source": [
        "# KNN on DinoV2 vectors"
      ]
    },
    {
      "cell_type": "code",
      "source": [
        "from transformers import Dinov2Model\n",
        "from transformers import AutoImageProcessor, AutoModel, Dinov2ForImageClassification\n",
        "import torch\n",
        "\n",
        "image_processor = AutoImageProcessor.from_pretrained('facebook/dinov2-base')\n",
        "model = AutoModel.from_pretrained('facebook/dinov2-base')\n",
        "\n",
        "device = torch.device(\"cuda:0\" if torch.cuda.is_available() else \"cpu\")\n",
        "print(\"Device: \", device)\n",
        "model = model.to(device)"
      ],
      "metadata": {
        "colab": {
          "base_uri": "https://localhost:8080/"
        },
        "id": "p8iB3AG9EFi9",
        "outputId": "bceeb9e3-f5bd-4138-9fb4-048ac1a02956"
      },
      "execution_count": 13,
      "outputs": [
        {
          "output_type": "stream",
          "name": "stdout",
          "text": [
            "Device:  cpu\n"
          ]
        }
      ]
    },
    {
      "cell_type": "code",
      "execution_count": 14,
      "metadata": {
        "id": "2rHXnoPBLKeI"
      },
      "outputs": [],
      "source": [
        "classe_id = {\n",
        "    0: 0,\n",
        "    1: 1000,\n",
        "    2: 2000,\n",
        "    3: 3000,\n",
        "    4: 4000\n",
        "}"
      ]
    },
    {
      "cell_type": "code",
      "execution_count": 15,
      "metadata": {
        "colab": {
          "base_uri": "https://localhost:8080/"
        },
        "id": "mpsb5clZOF0u",
        "outputId": "2f58a34f-1d74-47ad-d424-102c76ce4abe"
      },
      "outputs": [
        {
          "output_type": "stream",
          "name": "stdout",
          "text": [
            "[INFO] processed 500/4999\n",
            "[INFO] processed 1000/4999\n",
            "[INFO] processed 1500/4999\n",
            "[INFO] processed 2000/4999\n",
            "[INFO] processed 2500/4999\n",
            "[INFO] processed 3000/4999\n",
            "[INFO] processed 3500/4999\n",
            "[INFO] processed 4000/4999\n",
            "[INFO] processed 4500/4999\n"
          ]
        }
      ],
      "source": [
        "sp = SimplePreprocessor(244, 244)\n",
        "sdl = SimpleDatasetLoader(preprocessors=[sp])\n",
        "\n",
        "(data, labels) = sdl.load_dataset(dataset[\"train\"], id2label, verbose=500)"
      ]
    },
    {
      "cell_type": "markdown",
      "metadata": {
        "id": "soEmfLHlLFas"
      },
      "source": [
        "## Ensemble de validation"
      ]
    },
    {
      "cell_type": "code",
      "execution_count": 117,
      "metadata": {
        "colab": {
          "base_uri": "https://localhost:8080/"
        },
        "id": "fEjkcHYn-P7S",
        "outputId": "fa4750f6-536a-4499-8acf-1b22f2250ae9"
      },
      "outputs": [
        {
          "output_type": "stream",
          "name": "stdout",
          "text": [
            "[INFO] processed 0/4999\n",
            "[INFO] processed 1/4999\n",
            "[INFO] processed 2/4999\n",
            "[INFO] processed 3/4999\n",
            "[INFO] processed 4/4999\n",
            "[INFO] processed 5/4999\n",
            "[INFO] processed 6/4999\n",
            "[INFO] processed 7/4999\n",
            "[INFO] processed 8/4999\n",
            "[INFO] processed 9/4999\n",
            "[INFO] processed 10/4999\n",
            "[INFO] processed 11/4999\n",
            "[INFO] processed 12/4999\n",
            "[INFO] processed 13/4999\n",
            "[INFO] processed 14/4999\n",
            "[INFO] processed 15/4999\n",
            "[INFO] processed 16/4999\n",
            "[INFO] processed 17/4999\n",
            "[INFO] processed 18/4999\n",
            "[INFO] processed 19/4999\n",
            "[INFO] processed 20/4999\n",
            "[INFO] processed 21/4999\n",
            "[INFO] processed 22/4999\n",
            "[INFO] processed 23/4999\n",
            "[INFO] processed 24/4999\n",
            "[INFO] processed 25/4999\n",
            "[INFO] processed 26/4999\n",
            "[INFO] processed 27/4999\n",
            "[INFO] processed 28/4999\n",
            "[INFO] processed 29/4999\n",
            "[INFO] processed 30/4999\n",
            "[INFO] processed 31/4999\n",
            "[INFO] processed 32/4999\n",
            "[INFO] processed 33/4999\n",
            "[INFO] processed 34/4999\n",
            "[INFO] processed 35/4999\n",
            "[INFO] processed 36/4999\n",
            "[INFO] processed 37/4999\n",
            "[INFO] processed 38/4999\n",
            "[INFO] processed 39/4999\n",
            "[INFO] processed 40/4999\n",
            "[INFO] processed 41/4999\n",
            "[INFO] processed 42/4999\n",
            "[INFO] processed 43/4999\n",
            "[INFO] processed 44/4999\n",
            "[INFO] processed 45/4999\n",
            "[INFO] processed 46/4999\n",
            "[INFO] processed 47/4999\n",
            "[INFO] processed 48/4999\n",
            "[INFO] processed 49/4999\n",
            "[INFO] processed 50/4999\n",
            "[INFO] processed 51/4999\n",
            "[INFO] processed 52/4999\n",
            "[INFO] processed 53/4999\n",
            "[INFO] processed 54/4999\n",
            "[INFO] processed 55/4999\n",
            "[INFO] processed 56/4999\n",
            "[INFO] processed 57/4999\n",
            "[INFO] processed 58/4999\n",
            "[INFO] processed 59/4999\n",
            "[INFO] processed 60/4999\n",
            "[INFO] processed 61/4999\n",
            "[INFO] processed 62/4999\n",
            "[INFO] processed 63/4999\n",
            "[INFO] processed 64/4999\n",
            "[INFO] processed 65/4999\n",
            "[INFO] processed 66/4999\n",
            "[INFO] processed 67/4999\n",
            "[INFO] processed 68/4999\n",
            "[INFO] processed 69/4999\n",
            "[INFO] processed 70/4999\n",
            "[INFO] processed 71/4999\n",
            "[INFO] processed 72/4999\n",
            "[INFO] processed 73/4999\n",
            "[INFO] processed 74/4999\n",
            "[INFO] processed 75/4999\n",
            "[INFO] processed 76/4999\n",
            "[INFO] processed 77/4999\n",
            "[INFO] processed 78/4999\n",
            "[INFO] processed 79/4999\n",
            "[INFO] processed 80/4999\n",
            "[INFO] processed 81/4999\n",
            "[INFO] processed 82/4999\n",
            "[INFO] processed 83/4999\n",
            "[INFO] processed 84/4999\n",
            "[INFO] processed 85/4999\n",
            "[INFO] processed 86/4999\n",
            "[INFO] processed 87/4999\n",
            "[INFO] processed 88/4999\n",
            "[INFO] processed 89/4999\n",
            "[INFO] processed 90/4999\n",
            "[INFO] processed 91/4999\n",
            "[INFO] processed 92/4999\n",
            "[INFO] processed 93/4999\n",
            "[INFO] processed 94/4999\n",
            "[INFO] processed 95/4999\n",
            "[INFO] processed 96/4999\n",
            "[INFO] processed 97/4999\n",
            "[INFO] processed 98/4999\n",
            "[INFO] processed 99/4999\n",
            "[INFO] processed 1000/4999\n",
            "[INFO] processed 1001/4999\n",
            "[INFO] processed 1002/4999\n",
            "[INFO] processed 1003/4999\n",
            "[INFO] processed 1004/4999\n",
            "[INFO] processed 1005/4999\n",
            "[INFO] processed 1006/4999\n",
            "[INFO] processed 1007/4999\n",
            "[INFO] processed 1008/4999\n",
            "[INFO] processed 1009/4999\n",
            "[INFO] processed 1010/4999\n",
            "[INFO] processed 1011/4999\n",
            "[INFO] processed 1012/4999\n",
            "[INFO] processed 1013/4999\n",
            "[INFO] processed 1014/4999\n",
            "[INFO] processed 1015/4999\n",
            "[INFO] processed 1016/4999\n",
            "[INFO] processed 1017/4999\n",
            "[INFO] processed 1018/4999\n",
            "[INFO] processed 1019/4999\n",
            "[INFO] processed 1020/4999\n",
            "[INFO] processed 1021/4999\n",
            "[INFO] processed 1022/4999\n",
            "[INFO] processed 1023/4999\n",
            "[INFO] processed 1024/4999\n",
            "[INFO] processed 1025/4999\n",
            "[INFO] processed 1026/4999\n",
            "[INFO] processed 1027/4999\n",
            "[INFO] processed 1028/4999\n",
            "[INFO] processed 1029/4999\n",
            "[INFO] processed 1030/4999\n",
            "[INFO] processed 1031/4999\n",
            "[INFO] processed 1032/4999\n",
            "[INFO] processed 1033/4999\n",
            "[INFO] processed 1034/4999\n",
            "[INFO] processed 1035/4999\n",
            "[INFO] processed 1036/4999\n",
            "[INFO] processed 1037/4999\n",
            "[INFO] processed 1038/4999\n",
            "[INFO] processed 1039/4999\n",
            "[INFO] processed 1040/4999\n",
            "[INFO] processed 1041/4999\n",
            "[INFO] processed 1042/4999\n",
            "[INFO] processed 1043/4999\n",
            "[INFO] processed 1044/4999\n",
            "[INFO] processed 1045/4999\n",
            "[INFO] processed 1046/4999\n",
            "[INFO] processed 1047/4999\n",
            "[INFO] processed 1048/4999\n",
            "[INFO] processed 1049/4999\n",
            "[INFO] processed 1050/4999\n",
            "[INFO] processed 1051/4999\n",
            "[INFO] processed 1052/4999\n",
            "[INFO] processed 1053/4999\n",
            "[INFO] processed 1054/4999\n",
            "[INFO] processed 1055/4999\n",
            "[INFO] processed 1056/4999\n",
            "[INFO] processed 1057/4999\n",
            "[INFO] processed 1058/4999\n",
            "[INFO] processed 1059/4999\n",
            "[INFO] processed 1060/4999\n",
            "[INFO] processed 1061/4999\n",
            "[INFO] processed 1062/4999\n",
            "[INFO] processed 1063/4999\n",
            "[INFO] processed 1064/4999\n",
            "[INFO] processed 1065/4999\n",
            "[INFO] processed 1066/4999\n",
            "[INFO] processed 1067/4999\n",
            "[INFO] processed 1068/4999\n",
            "[INFO] processed 1069/4999\n",
            "[INFO] processed 1070/4999\n",
            "[INFO] processed 1071/4999\n",
            "[INFO] processed 1072/4999\n",
            "[INFO] processed 1073/4999\n",
            "[INFO] processed 1074/4999\n",
            "[INFO] processed 1075/4999\n",
            "[INFO] processed 1076/4999\n",
            "[INFO] processed 1077/4999\n",
            "[INFO] processed 1078/4999\n",
            "[INFO] processed 1079/4999\n",
            "[INFO] processed 1080/4999\n",
            "[INFO] processed 1081/4999\n",
            "[INFO] processed 1082/4999\n",
            "[INFO] processed 1083/4999\n",
            "[INFO] processed 1084/4999\n",
            "[INFO] processed 1085/4999\n",
            "[INFO] processed 1086/4999\n",
            "[INFO] processed 1087/4999\n",
            "[INFO] processed 1088/4999\n",
            "[INFO] processed 1089/4999\n",
            "[INFO] processed 1090/4999\n",
            "[INFO] processed 1091/4999\n",
            "[INFO] processed 1092/4999\n",
            "[INFO] processed 1093/4999\n",
            "[INFO] processed 1094/4999\n",
            "[INFO] processed 1095/4999\n",
            "[INFO] processed 1096/4999\n",
            "[INFO] processed 1097/4999\n",
            "[INFO] processed 1098/4999\n",
            "[INFO] processed 1099/4999\n",
            "[INFO] processed 2000/4999\n",
            "[INFO] processed 2001/4999\n",
            "[INFO] processed 2002/4999\n",
            "[INFO] processed 2003/4999\n",
            "[INFO] processed 2004/4999\n",
            "[INFO] processed 2005/4999\n",
            "[INFO] processed 2006/4999\n",
            "[INFO] processed 2007/4999\n",
            "[INFO] processed 2008/4999\n",
            "[INFO] processed 2009/4999\n",
            "[INFO] processed 2010/4999\n",
            "[INFO] processed 2011/4999\n",
            "[INFO] processed 2012/4999\n",
            "[INFO] processed 2013/4999\n",
            "[INFO] processed 2014/4999\n",
            "[INFO] processed 2015/4999\n",
            "[INFO] processed 2016/4999\n",
            "[INFO] processed 2017/4999\n",
            "[INFO] processed 2018/4999\n",
            "[INFO] processed 2019/4999\n",
            "[INFO] processed 2020/4999\n",
            "[INFO] processed 2021/4999\n",
            "[INFO] processed 2022/4999\n",
            "[INFO] processed 2023/4999\n",
            "[INFO] processed 2024/4999\n",
            "[INFO] processed 2025/4999\n",
            "[INFO] processed 2026/4999\n",
            "[INFO] processed 2027/4999\n",
            "[INFO] processed 2028/4999\n",
            "[INFO] processed 2029/4999\n",
            "[INFO] processed 2030/4999\n",
            "[INFO] processed 2031/4999\n",
            "[INFO] processed 2032/4999\n",
            "[INFO] processed 2033/4999\n",
            "[INFO] processed 2034/4999\n",
            "[INFO] processed 2035/4999\n",
            "[INFO] processed 2036/4999\n",
            "[INFO] processed 2037/4999\n",
            "[INFO] processed 2038/4999\n",
            "[INFO] processed 2039/4999\n",
            "[INFO] processed 2040/4999\n",
            "[INFO] processed 2041/4999\n",
            "[INFO] processed 2042/4999\n",
            "[INFO] processed 2043/4999\n",
            "[INFO] processed 2044/4999\n",
            "[INFO] processed 2045/4999\n",
            "[INFO] processed 2046/4999\n",
            "[INFO] processed 2047/4999\n",
            "[INFO] processed 2048/4999\n",
            "[INFO] processed 2049/4999\n",
            "[INFO] processed 2050/4999\n",
            "[INFO] processed 2051/4999\n",
            "[INFO] processed 2052/4999\n",
            "[INFO] processed 2053/4999\n",
            "[INFO] processed 2054/4999\n",
            "[INFO] processed 2055/4999\n",
            "[INFO] processed 2056/4999\n",
            "[INFO] processed 2057/4999\n",
            "[INFO] processed 2058/4999\n",
            "[INFO] processed 2059/4999\n",
            "[INFO] processed 2060/4999\n",
            "[INFO] processed 2061/4999\n",
            "[INFO] processed 2062/4999\n",
            "[INFO] processed 2063/4999\n",
            "[INFO] processed 2064/4999\n",
            "[INFO] processed 2065/4999\n",
            "[INFO] processed 2066/4999\n",
            "[INFO] processed 2067/4999\n",
            "[INFO] processed 2068/4999\n",
            "[INFO] processed 2069/4999\n",
            "[INFO] processed 2070/4999\n",
            "[INFO] processed 2071/4999\n",
            "[INFO] processed 2072/4999\n",
            "[INFO] processed 2073/4999\n",
            "[INFO] processed 2074/4999\n",
            "[INFO] processed 2075/4999\n",
            "[INFO] processed 2076/4999\n",
            "[INFO] processed 2077/4999\n",
            "[INFO] processed 2078/4999\n",
            "[INFO] processed 2079/4999\n",
            "[INFO] processed 2080/4999\n",
            "[INFO] processed 2081/4999\n",
            "[INFO] processed 2082/4999\n",
            "[INFO] processed 2083/4999\n",
            "[INFO] processed 2084/4999\n",
            "[INFO] processed 2085/4999\n",
            "[INFO] processed 2086/4999\n",
            "[INFO] processed 2087/4999\n",
            "[INFO] processed 2088/4999\n",
            "[INFO] processed 2089/4999\n",
            "[INFO] processed 2090/4999\n",
            "[INFO] processed 2091/4999\n",
            "[INFO] processed 2092/4999\n",
            "[INFO] processed 2093/4999\n",
            "[INFO] processed 2094/4999\n",
            "[INFO] processed 2095/4999\n",
            "[INFO] processed 2096/4999\n",
            "[INFO] processed 2097/4999\n",
            "[INFO] processed 2098/4999\n",
            "[INFO] processed 2099/4999\n",
            "[INFO] processed 3000/4999\n",
            "[INFO] processed 3001/4999\n",
            "[INFO] processed 3002/4999\n",
            "[INFO] processed 3003/4999\n",
            "[INFO] processed 3004/4999\n",
            "[INFO] processed 3005/4999\n",
            "[INFO] processed 3006/4999\n",
            "[INFO] processed 3007/4999\n",
            "[INFO] processed 3008/4999\n",
            "[INFO] processed 3009/4999\n",
            "[INFO] processed 3010/4999\n",
            "[INFO] processed 3011/4999\n",
            "[INFO] processed 3012/4999\n",
            "[INFO] processed 3013/4999\n",
            "[INFO] processed 3014/4999\n",
            "[INFO] processed 3015/4999\n",
            "[INFO] processed 3016/4999\n",
            "[INFO] processed 3017/4999\n",
            "[INFO] processed 3018/4999\n",
            "[INFO] processed 3019/4999\n",
            "[INFO] processed 3020/4999\n",
            "[INFO] processed 3021/4999\n",
            "[INFO] processed 3022/4999\n",
            "[INFO] processed 3023/4999\n",
            "[INFO] processed 3024/4999\n",
            "[INFO] processed 3025/4999\n",
            "[INFO] processed 3026/4999\n",
            "[INFO] processed 3027/4999\n",
            "[INFO] processed 3028/4999\n",
            "[INFO] processed 3029/4999\n",
            "[INFO] processed 3030/4999\n",
            "[INFO] processed 3031/4999\n",
            "[INFO] processed 3032/4999\n",
            "[INFO] processed 3033/4999\n",
            "[INFO] processed 3034/4999\n",
            "[INFO] processed 3035/4999\n",
            "[INFO] processed 3036/4999\n",
            "[INFO] processed 3037/4999\n",
            "[INFO] processed 3038/4999\n",
            "[INFO] processed 3039/4999\n",
            "[INFO] processed 3040/4999\n",
            "[INFO] processed 3041/4999\n",
            "[INFO] processed 3042/4999\n",
            "[INFO] processed 3043/4999\n",
            "[INFO] processed 3044/4999\n",
            "[INFO] processed 3045/4999\n",
            "[INFO] processed 3046/4999\n",
            "[INFO] processed 3047/4999\n",
            "[INFO] processed 3048/4999\n",
            "[INFO] processed 3049/4999\n",
            "[INFO] processed 3050/4999\n",
            "[INFO] processed 3051/4999\n",
            "[INFO] processed 3052/4999\n",
            "[INFO] processed 3053/4999\n",
            "[INFO] processed 3054/4999\n",
            "[INFO] processed 3055/4999\n",
            "[INFO] processed 3056/4999\n",
            "[INFO] processed 3057/4999\n",
            "[INFO] processed 3058/4999\n",
            "[INFO] processed 3059/4999\n",
            "[INFO] processed 3060/4999\n",
            "[INFO] processed 3061/4999\n",
            "[INFO] processed 3062/4999\n",
            "[INFO] processed 3063/4999\n",
            "[INFO] processed 3064/4999\n",
            "[INFO] processed 3065/4999\n",
            "[INFO] processed 3066/4999\n",
            "[INFO] processed 3067/4999\n",
            "[INFO] processed 3068/4999\n",
            "[INFO] processed 3069/4999\n",
            "[INFO] processed 3070/4999\n",
            "[INFO] processed 3071/4999\n",
            "[INFO] processed 3072/4999\n",
            "[INFO] processed 3073/4999\n",
            "[INFO] processed 3074/4999\n",
            "[INFO] processed 3075/4999\n",
            "[INFO] processed 3076/4999\n",
            "[INFO] processed 3077/4999\n",
            "[INFO] processed 3078/4999\n",
            "[INFO] processed 3079/4999\n",
            "[INFO] processed 3080/4999\n",
            "[INFO] processed 3081/4999\n",
            "[INFO] processed 3082/4999\n",
            "[INFO] processed 3083/4999\n",
            "[INFO] processed 3084/4999\n",
            "[INFO] processed 3085/4999\n",
            "[INFO] processed 3086/4999\n",
            "[INFO] processed 3087/4999\n",
            "[INFO] processed 3088/4999\n",
            "[INFO] processed 3089/4999\n",
            "[INFO] processed 3090/4999\n",
            "[INFO] processed 3091/4999\n",
            "[INFO] processed 3092/4999\n",
            "[INFO] processed 3093/4999\n",
            "[INFO] processed 3094/4999\n",
            "[INFO] processed 3095/4999\n",
            "[INFO] processed 3096/4999\n",
            "[INFO] processed 3097/4999\n",
            "[INFO] processed 3098/4999\n",
            "[INFO] processed 3099/4999\n",
            "[INFO] processed 4000/4999\n",
            "[INFO] processed 4001/4999\n",
            "[INFO] processed 4002/4999\n",
            "[INFO] processed 4003/4999\n",
            "[INFO] processed 4004/4999\n",
            "[INFO] processed 4005/4999\n",
            "[INFO] processed 4006/4999\n",
            "[INFO] processed 4007/4999\n",
            "[INFO] processed 4008/4999\n",
            "[INFO] processed 4009/4999\n",
            "[INFO] processed 4010/4999\n",
            "[INFO] processed 4011/4999\n",
            "[INFO] processed 4012/4999\n",
            "[INFO] processed 4013/4999\n",
            "[INFO] processed 4014/4999\n",
            "[INFO] processed 4015/4999\n",
            "[INFO] processed 4016/4999\n",
            "[INFO] processed 4017/4999\n",
            "[INFO] processed 4018/4999\n",
            "[INFO] processed 4019/4999\n",
            "[INFO] processed 4020/4999\n",
            "[INFO] processed 4021/4999\n",
            "[INFO] processed 4022/4999\n",
            "[INFO] processed 4023/4999\n",
            "[INFO] processed 4024/4999\n",
            "[INFO] processed 4025/4999\n",
            "[INFO] processed 4026/4999\n",
            "[INFO] processed 4027/4999\n",
            "[INFO] processed 4028/4999\n",
            "[INFO] processed 4029/4999\n",
            "[INFO] processed 4030/4999\n",
            "[INFO] processed 4031/4999\n",
            "[INFO] processed 4032/4999\n",
            "[INFO] processed 4033/4999\n",
            "[INFO] processed 4034/4999\n",
            "[INFO] processed 4035/4999\n",
            "[INFO] processed 4036/4999\n",
            "[INFO] processed 4037/4999\n",
            "[INFO] processed 4038/4999\n",
            "[INFO] processed 4039/4999\n",
            "[INFO] processed 4040/4999\n",
            "[INFO] processed 4041/4999\n",
            "[INFO] processed 4042/4999\n",
            "[INFO] processed 4043/4999\n",
            "[INFO] processed 4044/4999\n",
            "[INFO] processed 4045/4999\n",
            "[INFO] processed 4046/4999\n",
            "[INFO] processed 4047/4999\n",
            "[INFO] processed 4048/4999\n",
            "[INFO] processed 4049/4999\n",
            "[INFO] processed 4050/4999\n",
            "[INFO] processed 4051/4999\n",
            "[INFO] processed 4052/4999\n",
            "[INFO] processed 4053/4999\n",
            "[INFO] processed 4054/4999\n",
            "[INFO] processed 4055/4999\n",
            "[INFO] processed 4056/4999\n",
            "[INFO] processed 4057/4999\n",
            "[INFO] processed 4058/4999\n",
            "[INFO] processed 4059/4999\n",
            "[INFO] processed 4060/4999\n",
            "[INFO] processed 4061/4999\n",
            "[INFO] processed 4062/4999\n",
            "[INFO] processed 4063/4999\n",
            "[INFO] processed 4064/4999\n",
            "[INFO] processed 4065/4999\n",
            "[INFO] processed 4066/4999\n",
            "[INFO] processed 4067/4999\n",
            "[INFO] processed 4068/4999\n",
            "[INFO] processed 4069/4999\n",
            "[INFO] processed 4070/4999\n",
            "[INFO] processed 4071/4999\n",
            "[INFO] processed 4072/4999\n",
            "[INFO] processed 4073/4999\n",
            "[INFO] processed 4074/4999\n",
            "[INFO] processed 4075/4999\n",
            "[INFO] processed 4076/4999\n",
            "[INFO] processed 4077/4999\n",
            "[INFO] processed 4078/4999\n",
            "[INFO] processed 4079/4999\n",
            "[INFO] processed 4080/4999\n",
            "[INFO] processed 4081/4999\n",
            "[INFO] processed 4082/4999\n",
            "[INFO] processed 4083/4999\n",
            "[INFO] processed 4084/4999\n",
            "[INFO] processed 4085/4999\n",
            "[INFO] processed 4086/4999\n",
            "[INFO] processed 4087/4999\n",
            "[INFO] processed 4088/4999\n",
            "[INFO] processed 4089/4999\n",
            "[INFO] processed 4090/4999\n",
            "[INFO] processed 4091/4999\n",
            "[INFO] processed 4092/4999\n",
            "[INFO] processed 4093/4999\n",
            "[INFO] processed 4094/4999\n",
            "[INFO] processed 4095/4999\n",
            "[INFO] processed 4096/4999\n",
            "[INFO] processed 4097/4999\n",
            "[INFO] processed 4098/4999\n",
            "[INFO] processed 4099/4999\n"
          ]
        }
      ],
      "source": [
        "import numpy as np\n",
        "import random\n",
        "\n",
        "number_validation_per_classes = 100\n",
        "\n",
        "data_validation_tensor = np.zeros((len(id2label)*number_validation_per_classes, 197376))\n",
        "label_validation_correct = np.zeros((number_validation_per_classes*len(id2label),))\n",
        "\n",
        "for cid in classe_id.keys():\n",
        "  for i in range(number_validation_per_classes):\n",
        "    image_id = classe_id[cid] + i\n",
        "    image = data[image_id]\n",
        "\n",
        "    inputs = image_processor(image, return_tensors=\"pt\")\n",
        "\n",
        "    with torch.no_grad():\n",
        "      logits = model(**inputs).last_hidden_state.reshape(1, -1).tolist()[0]\n",
        "      id = int(cid)*number_validation_per_classes + i\n",
        "      data_validation_tensor[id] = logits\n",
        "      label_validation_correct[id] = cid\n",
        "\n",
        "    print(\"[INFO] processed {}/{}\".format(image_id, dataset[\"train\"].num_rows))"
      ]
    },
    {
      "cell_type": "code",
      "execution_count": 118,
      "metadata": {
        "colab": {
          "base_uri": "https://localhost:8080/"
        },
        "id": "jt5sqpbFACQa",
        "outputId": "5a9545f1-78cd-43f9-a739-11d22f963ce2"
      },
      "outputs": [
        {
          "output_type": "stream",
          "name": "stdout",
          "text": [
            "500 197376\n"
          ]
        }
      ],
      "source": [
        "## print(label_validation_correct)\n",
        "print(len(data_validation_tensor), len(data_validation_tensor[0]))"
      ]
    },
    {
      "cell_type": "code",
      "execution_count": 119,
      "metadata": {
        "colab": {
          "base_uri": "https://localhost:8080/"
        },
        "id": "Z8bBh7JbVb9c",
        "outputId": "3d7b1bad-0b79-4192-dfdf-05a72bbb671f"
      },
      "outputs": [
        {
          "output_type": "stream",
          "name": "stdout",
          "text": [
            "[[ 0.85902995  1.79945254  0.22009277 ...  0.51550406 -2.51012492\n",
            "  -1.83473766]\n",
            " [ 1.26890063 -2.51034212  0.09431291 ...  0.8599776  -0.66391855\n",
            "  -1.04202712]\n",
            " [-0.104789    0.19976455 -0.56448293 ...  0.37749782 -0.70874113\n",
            "   0.82947987]\n",
            " ...\n",
            " [ 1.70491064  0.74980694  0.00687525 ...  1.04908621  0.47470421\n",
            "   1.00151646]\n",
            " [ 4.01766586  1.46384001 -0.95005727 ...  0.56969684 -2.74273038\n",
            "  -2.32414222]\n",
            " [ 3.84879422  0.90132111  0.55567944 ...  2.30645633 -0.18652727\n",
            "  -1.4061954 ]]\n",
            "[0. 0. 0. 0. 0. 0. 0. 0. 0. 0. 0. 0. 0. 0. 0. 0. 0. 0. 0. 0. 0. 0. 0. 0.\n",
            " 0. 0. 0. 0. 0. 0. 0. 0. 0. 0. 0. 0. 0. 0. 0. 0. 0. 0. 0. 0. 0. 0. 0. 0.\n",
            " 0. 0. 0. 0. 0. 0. 0. 0. 0. 0. 0. 0. 0. 0. 0. 0. 0. 0. 0. 0. 0. 0. 0. 0.\n",
            " 0. 0. 0. 0. 0. 0. 0. 0. 0. 0. 0. 0. 0. 0. 0. 0. 0. 0. 0. 0. 0. 0. 0. 0.\n",
            " 0. 0. 0. 0. 1. 1. 1. 1. 1. 1. 1. 1. 1. 1. 1. 1. 1. 1. 1. 1. 1. 1. 1. 1.\n",
            " 1. 1. 1. 1. 1. 1. 1. 1. 1. 1. 1. 1. 1. 1. 1. 1. 1. 1. 1. 1. 1. 1. 1. 1.\n",
            " 1. 1. 1. 1. 1. 1. 1. 1. 1. 1. 1. 1. 1. 1. 1. 1. 1. 1. 1. 1. 1. 1. 1. 1.\n",
            " 1. 1. 1. 1. 1. 1. 1. 1. 1. 1. 1. 1. 1. 1. 1. 1. 1. 1. 1. 1. 1. 1. 1. 1.\n",
            " 1. 1. 1. 1. 1. 1. 1. 1. 2. 2. 2. 2. 2. 2. 2. 2. 2. 2. 2. 2. 2. 2. 2. 2.\n",
            " 2. 2. 2. 2. 2. 2. 2. 2. 2. 2. 2. 2. 2. 2. 2. 2. 2. 2. 2. 2. 2. 2. 2. 2.\n",
            " 2. 2. 2. 2. 2. 2. 2. 2. 2. 2. 2. 2. 2. 2. 2. 2. 2. 2. 2. 2. 2. 2. 2. 2.\n",
            " 2. 2. 2. 2. 2. 2. 2. 2. 2. 2. 2. 2. 2. 2. 2. 2. 2. 2. 2. 2. 2. 2. 2. 2.\n",
            " 2. 2. 2. 2. 2. 2. 2. 2. 2. 2. 2. 2. 3. 3. 3. 3. 3. 3. 3. 3. 3. 3. 3. 3.\n",
            " 3. 3. 3. 3. 3. 3. 3. 3. 3. 3. 3. 3. 3. 3. 3. 3. 3. 3. 3. 3. 3. 3. 3. 3.\n",
            " 3. 3. 3. 3. 3. 3. 3. 3. 3. 3. 3. 3. 3. 3. 3. 3. 3. 3. 3. 3. 3. 3. 3. 3.\n",
            " 3. 3. 3. 3. 3. 3. 3. 3. 3. 3. 3. 3. 3. 3. 3. 3. 3. 3. 3. 3. 3. 3. 3. 3.\n",
            " 3. 3. 3. 3. 3. 3. 3. 3. 3. 3. 3. 3. 3. 3. 3. 3. 4. 4. 4. 4. 4. 4. 4. 4.\n",
            " 4. 4. 4. 4. 4. 4. 4. 4. 4. 4. 4. 4. 4. 4. 4. 4. 4. 4. 4. 4. 4. 4. 4. 4.\n",
            " 4. 4. 4. 4. 4. 4. 4. 4. 4. 4. 4. 4. 4. 4. 4. 4. 4. 4. 4. 4. 4. 4. 4. 4.\n",
            " 4. 4. 4. 4. 4. 4. 4. 4. 4. 4. 4. 4. 4. 4. 4. 4. 4. 4. 4. 4. 4. 4. 4. 4.\n",
            " 4. 4. 4. 4. 4. 4. 4. 4. 4. 4. 4. 4. 4. 4. 4. 4. 4. 4. 4. 4.]\n"
          ]
        }
      ],
      "source": [
        "print(data_validation_tensor)\n",
        "print(label_validation_correct)"
      ]
    },
    {
      "cell_type": "markdown",
      "metadata": {
        "id": "ji1hgfZDNGK3"
      },
      "source": [
        "## Ensemble de test"
      ]
    },
    {
      "cell_type": "code",
      "execution_count": null,
      "metadata": {
        "id": "CU5AxVz5Kh76"
      },
      "outputs": [],
      "source": [
        "import numpy as np\n",
        "import random\n",
        "\n",
        "number_test_per_classes = 100\n",
        "max_validation_samples = 100\n",
        "\n",
        "data_test_tensor = np.zeros((number_test_per_classes*len(id2label), 197376))\n",
        "label_test_correct = np.zeros((number_test_per_classes*len(id2label),))\n",
        "\n",
        "for cid in classe_id.keys():\n",
        "  for i in range(number_test_per_classes):\n",
        "    # image_id = classe_id[cid] + random.randint(number_validation_per_classes+1, 999)\n",
        "    image_id = classe_id[cid] + max_validation_samples + i\n",
        "\n",
        "    image = data[image_id]\n",
        "\n",
        "    inputs = image_processor(image, return_tensors=\"pt\")\n",
        "\n",
        "    with torch.no_grad():\n",
        "      logits = model(**inputs).last_hidden_state.reshape(1, -1).tolist()[0]\n",
        "      id = int(cid)*number_test_per_classes + i\n",
        "      data_test_tensor[id] = logits\n",
        "      label_test_correct[id] = cid\n",
        "\n",
        "    print(\"[INFO] processed {}/{}\".format(image_id, dataset[\"train\"].num_rows))"
      ]
    },
    {
      "cell_type": "code",
      "execution_count": 83,
      "metadata": {
        "colab": {
          "base_uri": "https://localhost:8080/"
        },
        "id": "m-QKFDnuMK6n",
        "outputId": "423e6c66-6002-4b0f-a248-6f3674c4c1c6"
      },
      "outputs": [
        {
          "output_type": "stream",
          "name": "stdout",
          "text": [
            "500 197376\n"
          ]
        }
      ],
      "source": [
        "print(len(data_test_tensor), len(data_test_tensor[0]))\n",
        "# print(label_test_predicted)\n",
        "# print(label_test_correct)"
      ]
    },
    {
      "cell_type": "code",
      "source": [
        "print(data_test_tensor)\n",
        "print(label_test_correct)"
      ],
      "metadata": {
        "colab": {
          "base_uri": "https://localhost:8080/"
        },
        "id": "0eY_zXmEVkUt",
        "outputId": "4541c839-d5d7-4fa9-d296-c2ff16f60c9e"
      },
      "execution_count": 82,
      "outputs": [
        {
          "output_type": "stream",
          "name": "stdout",
          "text": [
            "[[ 1.26774037 -2.17363548 -3.87501383 ... -2.06406641  0.73959845\n",
            "   0.48893264]\n",
            " [ 0.41180208  1.52246845  1.5932132  ... -1.60640943 -0.66213024\n",
            "  -0.39954975]\n",
            " [-0.70851547 -3.06914783 -1.8799361  ... -1.14572215 -1.15730882\n",
            "  -0.12199682]\n",
            " ...\n",
            " [ 3.26815915  0.54141366 -0.10554231 ... -0.52817011 -0.89824378\n",
            "   1.17367768]\n",
            " [ 3.50364852  0.2337945  -0.74410152 ...  2.0632894  -0.54090858\n",
            "   1.09526336]\n",
            " [ 1.45758426 -1.29399061 -0.81735098 ... -1.5550307   0.46251956\n",
            "  -0.29909736]]\n",
            "[0. 0. 0. 0. 0. 0. 0. 0. 0. 0. 0. 0. 0. 0. 0. 0. 0. 0. 0. 0. 0. 0. 0. 0.\n",
            " 0. 0. 0. 0. 0. 0. 0. 0. 0. 0. 0. 0. 0. 0. 0. 0. 0. 0. 0. 0. 0. 0. 0. 0.\n",
            " 0. 0. 0. 0. 0. 0. 0. 0. 0. 0. 0. 0. 0. 0. 0. 0. 0. 0. 0. 0. 0. 0. 0. 0.\n",
            " 0. 0. 0. 0. 0. 0. 0. 0. 0. 0. 0. 0. 0. 0. 0. 0. 0. 0. 0. 0. 0. 0. 0. 0.\n",
            " 0. 0. 0. 0. 1. 1. 1. 1. 1. 1. 1. 1. 1. 1. 1. 1. 1. 1. 1. 1. 1. 1. 1. 1.\n",
            " 1. 1. 1. 1. 1. 1. 1. 1. 1. 1. 1. 1. 1. 1. 1. 1. 1. 1. 1. 1. 1. 1. 1. 1.\n",
            " 1. 1. 1. 1. 1. 1. 1. 1. 1. 1. 1. 1. 1. 1. 1. 1. 1. 1. 1. 1. 1. 1. 1. 1.\n",
            " 1. 1. 1. 1. 1. 1. 1. 1. 1. 1. 1. 1. 1. 1. 1. 1. 1. 1. 1. 1. 1. 1. 1. 1.\n",
            " 1. 1. 1. 1. 1. 1. 1. 1. 2. 2. 2. 2. 2. 2. 2. 2. 2. 2. 2. 2. 2. 2. 2. 2.\n",
            " 2. 2. 2. 2. 2. 2. 2. 2. 2. 2. 2. 2. 2. 2. 2. 2. 2. 2. 2. 2. 2. 2. 2. 2.\n",
            " 2. 2. 2. 2. 2. 2. 2. 2. 2. 2. 2. 2. 2. 2. 2. 2. 2. 2. 2. 2. 2. 2. 2. 2.\n",
            " 2. 2. 2. 2. 2. 2. 2. 2. 2. 2. 2. 2. 2. 2. 2. 2. 2. 2. 2. 2. 2. 2. 2. 2.\n",
            " 2. 2. 2. 2. 2. 2. 2. 2. 2. 2. 2. 2. 3. 3. 3. 3. 3. 3. 3. 3. 3. 3. 3. 3.\n",
            " 3. 3. 3. 3. 3. 3. 3. 3. 3. 3. 3. 3. 3. 3. 3. 3. 3. 3. 3. 3. 3. 3. 3. 3.\n",
            " 3. 3. 3. 3. 3. 3. 3. 3. 3. 3. 3. 3. 3. 3. 3. 3. 3. 3. 3. 3. 3. 3. 3. 3.\n",
            " 3. 3. 3. 3. 3. 3. 3. 3. 3. 3. 3. 3. 3. 3. 3. 3. 3. 3. 3. 3. 3. 3. 3. 3.\n",
            " 3. 3. 3. 3. 3. 3. 3. 3. 3. 3. 3. 3. 3. 3. 3. 3. 4. 4. 4. 4. 4. 4. 4. 4.\n",
            " 4. 4. 4. 4. 4. 4. 4. 4. 4. 4. 4. 4. 4. 4. 4. 4. 4. 4. 4. 4. 4. 4. 4. 4.\n",
            " 4. 4. 4. 4. 4. 4. 4. 4. 4. 4. 4. 4. 4. 4. 4. 4. 4. 4. 4. 4. 4. 4. 4. 4.\n",
            " 4. 4. 4. 4. 4. 4. 4. 4. 4. 4. 4. 4. 4. 4. 4. 4. 4. 4. 4. 4. 4. 4. 4. 4.\n",
            " 4. 4. 4. 4. 4. 4. 4. 4. 4. 4. 4. 4. 4. 4. 4. 4. 4. 4. 4. 4.]\n"
          ]
        }
      ]
    },
    {
      "cell_type": "markdown",
      "metadata": {
        "id": "i_zN91nVM-_d"
      },
      "source": [
        "## KNN with validation set"
      ]
    },
    {
      "cell_type": "code",
      "execution_count": 120,
      "metadata": {
        "colab": {
          "base_uri": "https://localhost:8080/",
          "height": 93
        },
        "id": "w-UBS9AWDh_s",
        "outputId": "c0438557-f1f7-44ff-986f-9e481b1c9592"
      },
      "outputs": [
        {
          "output_type": "stream",
          "name": "stdout",
          "text": [
            "[INFO] evaluating k-NN classifier...\n"
          ]
        },
        {
          "output_type": "execute_result",
          "data": {
            "text/plain": [
              "KNeighborsClassifier(n_jobs=-1, n_neighbors=1)"
            ],
            "text/html": [
              "<style>#sk-container-id-8 {color: black;background-color: white;}#sk-container-id-8 pre{padding: 0;}#sk-container-id-8 div.sk-toggleable {background-color: white;}#sk-container-id-8 label.sk-toggleable__label {cursor: pointer;display: block;width: 100%;margin-bottom: 0;padding: 0.3em;box-sizing: border-box;text-align: center;}#sk-container-id-8 label.sk-toggleable__label-arrow:before {content: \"▸\";float: left;margin-right: 0.25em;color: #696969;}#sk-container-id-8 label.sk-toggleable__label-arrow:hover:before {color: black;}#sk-container-id-8 div.sk-estimator:hover label.sk-toggleable__label-arrow:before {color: black;}#sk-container-id-8 div.sk-toggleable__content {max-height: 0;max-width: 0;overflow: hidden;text-align: left;background-color: #f0f8ff;}#sk-container-id-8 div.sk-toggleable__content pre {margin: 0.2em;color: black;border-radius: 0.25em;background-color: #f0f8ff;}#sk-container-id-8 input.sk-toggleable__control:checked~div.sk-toggleable__content {max-height: 200px;max-width: 100%;overflow: auto;}#sk-container-id-8 input.sk-toggleable__control:checked~label.sk-toggleable__label-arrow:before {content: \"▾\";}#sk-container-id-8 div.sk-estimator input.sk-toggleable__control:checked~label.sk-toggleable__label {background-color: #d4ebff;}#sk-container-id-8 div.sk-label input.sk-toggleable__control:checked~label.sk-toggleable__label {background-color: #d4ebff;}#sk-container-id-8 input.sk-hidden--visually {border: 0;clip: rect(1px 1px 1px 1px);clip: rect(1px, 1px, 1px, 1px);height: 1px;margin: -1px;overflow: hidden;padding: 0;position: absolute;width: 1px;}#sk-container-id-8 div.sk-estimator {font-family: monospace;background-color: #f0f8ff;border: 1px dotted black;border-radius: 0.25em;box-sizing: border-box;margin-bottom: 0.5em;}#sk-container-id-8 div.sk-estimator:hover {background-color: #d4ebff;}#sk-container-id-8 div.sk-parallel-item::after {content: \"\";width: 100%;border-bottom: 1px solid gray;flex-grow: 1;}#sk-container-id-8 div.sk-label:hover label.sk-toggleable__label {background-color: #d4ebff;}#sk-container-id-8 div.sk-serial::before {content: \"\";position: absolute;border-left: 1px solid gray;box-sizing: border-box;top: 0;bottom: 0;left: 50%;z-index: 0;}#sk-container-id-8 div.sk-serial {display: flex;flex-direction: column;align-items: center;background-color: white;padding-right: 0.2em;padding-left: 0.2em;position: relative;}#sk-container-id-8 div.sk-item {position: relative;z-index: 1;}#sk-container-id-8 div.sk-parallel {display: flex;align-items: stretch;justify-content: center;background-color: white;position: relative;}#sk-container-id-8 div.sk-item::before, #sk-container-id-8 div.sk-parallel-item::before {content: \"\";position: absolute;border-left: 1px solid gray;box-sizing: border-box;top: 0;bottom: 0;left: 50%;z-index: -1;}#sk-container-id-8 div.sk-parallel-item {display: flex;flex-direction: column;z-index: 1;position: relative;background-color: white;}#sk-container-id-8 div.sk-parallel-item:first-child::after {align-self: flex-end;width: 50%;}#sk-container-id-8 div.sk-parallel-item:last-child::after {align-self: flex-start;width: 50%;}#sk-container-id-8 div.sk-parallel-item:only-child::after {width: 0;}#sk-container-id-8 div.sk-dashed-wrapped {border: 1px dashed gray;margin: 0 0.4em 0.5em 0.4em;box-sizing: border-box;padding-bottom: 0.4em;background-color: white;}#sk-container-id-8 div.sk-label label {font-family: monospace;font-weight: bold;display: inline-block;line-height: 1.2em;}#sk-container-id-8 div.sk-label-container {text-align: center;}#sk-container-id-8 div.sk-container {/* jupyter's `normalize.less` sets `[hidden] { display: none; }` but bootstrap.min.css set `[hidden] { display: none !important; }` so we also need the `!important` here to be able to override the default hidden behavior on the sphinx rendered scikit-learn.org. See: https://github.com/scikit-learn/scikit-learn/issues/21755 */display: inline-block !important;position: relative;}#sk-container-id-8 div.sk-text-repr-fallback {display: none;}</style><div id=\"sk-container-id-8\" class=\"sk-top-container\"><div class=\"sk-text-repr-fallback\"><pre>KNeighborsClassifier(n_jobs=-1, n_neighbors=1)</pre><b>In a Jupyter environment, please rerun this cell to show the HTML representation or trust the notebook. <br />On GitHub, the HTML representation is unable to render, please try loading this page with nbviewer.org.</b></div><div class=\"sk-container\" hidden><div class=\"sk-item\"><div class=\"sk-estimator sk-toggleable\"><input class=\"sk-toggleable__control sk-hidden--visually\" id=\"sk-estimator-id-8\" type=\"checkbox\" checked><label for=\"sk-estimator-id-8\" class=\"sk-toggleable__label sk-toggleable__label-arrow\">KNeighborsClassifier</label><div class=\"sk-toggleable__content\"><pre>KNeighborsClassifier(n_jobs=-1, n_neighbors=1)</pre></div></div></div></div></div>"
            ]
          },
          "metadata": {},
          "execution_count": 120
        }
      ],
      "source": [
        "# train and evaluate a k-NN classifier on tensor of DinoV2\n",
        "print(\"[INFO] evaluating k-NN classifier...\")\n",
        "\n",
        "knn = KNeighborsClassifier(n_neighbors=1, n_jobs=-1)\n",
        "\n",
        "knn.fit(data_validation_tensor, label_validation_correct)"
      ]
    },
    {
      "cell_type": "markdown",
      "metadata": {
        "id": "-kNJFqdcNPnH"
      },
      "source": [
        "### Tests & Résultats"
      ]
    },
    {
      "cell_type": "code",
      "execution_count": 121,
      "metadata": {
        "colab": {
          "base_uri": "https://localhost:8080/"
        },
        "id": "E29ip0szKakV",
        "outputId": "a1e8ea28-1b3f-4e34-f282-58bfe7238f06"
      },
      "outputs": [
        {
          "output_type": "stream",
          "name": "stdout",
          "text": [
            "              precision    recall  f1-score   support\n",
            "\n",
            "       Lilly       0.87      0.90      0.89       100\n",
            "       Lotus       0.93      0.96      0.95       100\n",
            "      Orchid       0.97      0.86      0.91       100\n",
            "   Sunflower       0.97      0.97      0.97       100\n",
            "       Tulip       0.90      0.94      0.92       100\n",
            "\n",
            "    accuracy                           0.93       500\n",
            "   macro avg       0.93      0.93      0.93       500\n",
            "weighted avg       0.93      0.93      0.93       500\n",
            "\n"
          ]
        }
      ],
      "source": [
        "print(classification_report(label_test_correct, knn.predict(data_test_tensor), target_names=le.classes_))"
      ]
    },
    {
      "cell_type": "markdown",
      "metadata": {
        "id": "6CSWp8jlYCr4"
      },
      "source": [
        "# Different K tests in Knn"
      ]
    },
    {
      "cell_type": "code",
      "execution_count": 125,
      "metadata": {
        "colab": {
          "base_uri": "https://localhost:8080/",
          "height": 1000
        },
        "id": "2JeIjZTBYG1U",
        "outputId": "682368c4-9d42-4403-9ee9-a265e9dfbefd"
      },
      "outputs": [
        {
          "output_type": "stream",
          "name": "stdout",
          "text": [
            "[INFO] evaluating k-NN classifier for k = 1\n",
            "[INFO] Accuracy: 92.60000000000001 %\n",
            "\n",
            "[INFO] evaluating k-NN classifier for k = 2\n",
            "[INFO] Accuracy: 90.0 %\n",
            "\n",
            "[INFO] evaluating k-NN classifier for k = 3\n",
            "[INFO] Accuracy: 92.80000000000001 %\n",
            "\n",
            "[INFO] evaluating k-NN classifier for k = 4\n",
            "[INFO] Accuracy: 93.0 %\n",
            "\n",
            "[INFO] evaluating k-NN classifier for k = 5\n",
            "[INFO] Accuracy: 93.4 %\n",
            "\n",
            "[INFO] evaluating k-NN classifier for k = 6\n",
            "[INFO] Accuracy: 94.19999999999999 %\n",
            "\n",
            "[INFO] evaluating k-NN classifier for k = 7\n",
            "[INFO] Accuracy: 93.8 %\n",
            "\n",
            "[INFO] evaluating k-NN classifier for k = 8\n",
            "[INFO] Accuracy: 94.6 %\n",
            "\n",
            "[INFO] evaluating k-NN classifier for k = 9\n",
            "[INFO] Accuracy: 94.19999999999999 %\n",
            "\n",
            "[INFO] evaluating k-NN classifier for k = 10\n",
            "[INFO] Accuracy: 94.8 %\n",
            "\n",
            "[INFO] evaluating k-NN classifier for k = 11\n",
            "[INFO] Accuracy: 95.0 %\n",
            "\n",
            "[INFO] evaluating k-NN classifier for k = 12\n",
            "[INFO] Accuracy: 95.0 %\n",
            "\n",
            "[INFO] evaluating k-NN classifier for k = 13\n",
            "[INFO] Accuracy: 94.6 %\n",
            "\n",
            "[INFO] evaluating k-NN classifier for k = 14\n",
            "[INFO] Accuracy: 94.6 %\n",
            "\n",
            "[INFO] evaluating k-NN classifier for k = 15\n",
            "[INFO] Accuracy: 94.6 %\n",
            "\n",
            "[INFO] evaluating k-NN classifier for k = 16\n",
            "[INFO] Accuracy: 94.8 %\n",
            "\n",
            "[INFO] evaluating k-NN classifier for k = 17\n",
            "[INFO] Accuracy: 95.19999999999999 %\n",
            "\n",
            "[INFO] evaluating k-NN classifier for k = 18\n",
            "[INFO] Accuracy: 94.6 %\n",
            "\n",
            "[INFO] evaluating k-NN classifier for k = 19\n"
          ]
        },
        {
          "output_type": "error",
          "ename": "KeyboardInterrupt",
          "evalue": "",
          "traceback": [
            "\u001b[0;31m---------------------------------------------------------------------------\u001b[0m",
            "\u001b[0;31mKeyboardInterrupt\u001b[0m                         Traceback (most recent call last)",
            "\u001b[0;32m<ipython-input-125-6ac353e99240>\u001b[0m in \u001b[0;36m<cell line: 10>\u001b[0;34m()\u001b[0m\n\u001b[1;32m     13\u001b[0m   \u001b[0mknn\u001b[0m \u001b[0;34m=\u001b[0m \u001b[0mKNeighborsClassifier\u001b[0m\u001b[0;34m(\u001b[0m\u001b[0mn_neighbors\u001b[0m\u001b[0;34m=\u001b[0m\u001b[0mk\u001b[0m\u001b[0;34m,\u001b[0m \u001b[0mn_jobs\u001b[0m\u001b[0;34m=\u001b[0m\u001b[0;36m5\u001b[0m\u001b[0;34m)\u001b[0m\u001b[0;34m\u001b[0m\u001b[0;34m\u001b[0m\u001b[0m\n\u001b[1;32m     14\u001b[0m   \u001b[0mknn\u001b[0m\u001b[0;34m.\u001b[0m\u001b[0mfit\u001b[0m\u001b[0;34m(\u001b[0m\u001b[0mdata_validation_tensor\u001b[0m\u001b[0;34m,\u001b[0m \u001b[0mlabel_validation_correct\u001b[0m\u001b[0;34m)\u001b[0m\u001b[0;34m\u001b[0m\u001b[0;34m\u001b[0m\u001b[0m\n\u001b[0;32m---> 15\u001b[0;31m   \u001b[0mdata_test_prediction\u001b[0m \u001b[0;34m=\u001b[0m \u001b[0mknn\u001b[0m\u001b[0;34m.\u001b[0m\u001b[0mpredict\u001b[0m\u001b[0;34m(\u001b[0m\u001b[0mdata_test_tensor\u001b[0m\u001b[0;34m)\u001b[0m\u001b[0;34m\u001b[0m\u001b[0;34m\u001b[0m\u001b[0m\n\u001b[0m\u001b[1;32m     16\u001b[0m \u001b[0;34m\u001b[0m\u001b[0m\n\u001b[1;32m     17\u001b[0m   \u001b[0mk_accuracy\u001b[0m \u001b[0;34m=\u001b[0m \u001b[0maccuracy_score\u001b[0m\u001b[0;34m(\u001b[0m\u001b[0mlabel_test_correct\u001b[0m\u001b[0;34m,\u001b[0m \u001b[0mdata_test_prediction\u001b[0m\u001b[0;34m)\u001b[0m \u001b[0;34m*\u001b[0m \u001b[0;36m100\u001b[0m\u001b[0;34m\u001b[0m\u001b[0;34m\u001b[0m\u001b[0m\n",
            "\u001b[0;32m/usr/local/lib/python3.10/dist-packages/sklearn/neighbors/_classification.py\u001b[0m in \u001b[0;36mpredict\u001b[0;34m(self, X)\u001b[0m\n\u001b[1;32m    232\u001b[0m             \u001b[0;31m# In that case, we do not need the distances to perform\u001b[0m\u001b[0;34m\u001b[0m\u001b[0;34m\u001b[0m\u001b[0m\n\u001b[1;32m    233\u001b[0m             \u001b[0;31m# the weighting so we do not compute them.\u001b[0m\u001b[0;34m\u001b[0m\u001b[0;34m\u001b[0m\u001b[0m\n\u001b[0;32m--> 234\u001b[0;31m             \u001b[0mneigh_ind\u001b[0m \u001b[0;34m=\u001b[0m \u001b[0mself\u001b[0m\u001b[0;34m.\u001b[0m\u001b[0mkneighbors\u001b[0m\u001b[0;34m(\u001b[0m\u001b[0mX\u001b[0m\u001b[0;34m,\u001b[0m \u001b[0mreturn_distance\u001b[0m\u001b[0;34m=\u001b[0m\u001b[0;32mFalse\u001b[0m\u001b[0;34m)\u001b[0m\u001b[0;34m\u001b[0m\u001b[0;34m\u001b[0m\u001b[0m\n\u001b[0m\u001b[1;32m    235\u001b[0m             \u001b[0mneigh_dist\u001b[0m \u001b[0;34m=\u001b[0m \u001b[0;32mNone\u001b[0m\u001b[0;34m\u001b[0m\u001b[0;34m\u001b[0m\u001b[0m\n\u001b[1;32m    236\u001b[0m         \u001b[0;32melse\u001b[0m\u001b[0;34m:\u001b[0m\u001b[0;34m\u001b[0m\u001b[0;34m\u001b[0m\u001b[0m\n",
            "\u001b[0;32m/usr/local/lib/python3.10/dist-packages/sklearn/neighbors/_base.py\u001b[0m in \u001b[0;36mkneighbors\u001b[0;34m(self, X, n_neighbors, return_distance)\u001b[0m\n\u001b[1;32m    822\u001b[0m         )\n\u001b[1;32m    823\u001b[0m         \u001b[0;32mif\u001b[0m \u001b[0muse_pairwise_distances_reductions\u001b[0m\u001b[0;34m:\u001b[0m\u001b[0;34m\u001b[0m\u001b[0;34m\u001b[0m\u001b[0m\n\u001b[0;32m--> 824\u001b[0;31m             results = ArgKmin.compute(\n\u001b[0m\u001b[1;32m    825\u001b[0m                 \u001b[0mX\u001b[0m\u001b[0;34m=\u001b[0m\u001b[0mX\u001b[0m\u001b[0;34m,\u001b[0m\u001b[0;34m\u001b[0m\u001b[0;34m\u001b[0m\u001b[0m\n\u001b[1;32m    826\u001b[0m                 \u001b[0mY\u001b[0m\u001b[0;34m=\u001b[0m\u001b[0mself\u001b[0m\u001b[0;34m.\u001b[0m\u001b[0m_fit_X\u001b[0m\u001b[0;34m,\u001b[0m\u001b[0;34m\u001b[0m\u001b[0;34m\u001b[0m\u001b[0m\n",
            "\u001b[0;32m/usr/local/lib/python3.10/dist-packages/sklearn/metrics/_pairwise_distances_reduction/_dispatcher.py\u001b[0m in \u001b[0;36mcompute\u001b[0;34m(cls, X, Y, k, metric, chunk_size, metric_kwargs, strategy, return_distance)\u001b[0m\n\u001b[1;32m    275\u001b[0m         \"\"\"\n\u001b[1;32m    276\u001b[0m         \u001b[0;32mif\u001b[0m \u001b[0mX\u001b[0m\u001b[0;34m.\u001b[0m\u001b[0mdtype\u001b[0m \u001b[0;34m==\u001b[0m \u001b[0mY\u001b[0m\u001b[0;34m.\u001b[0m\u001b[0mdtype\u001b[0m \u001b[0;34m==\u001b[0m \u001b[0mnp\u001b[0m\u001b[0;34m.\u001b[0m\u001b[0mfloat64\u001b[0m\u001b[0;34m:\u001b[0m\u001b[0;34m\u001b[0m\u001b[0;34m\u001b[0m\u001b[0m\n\u001b[0;32m--> 277\u001b[0;31m             return ArgKmin64.compute(\n\u001b[0m\u001b[1;32m    278\u001b[0m                 \u001b[0mX\u001b[0m\u001b[0;34m=\u001b[0m\u001b[0mX\u001b[0m\u001b[0;34m,\u001b[0m\u001b[0;34m\u001b[0m\u001b[0;34m\u001b[0m\u001b[0m\n\u001b[1;32m    279\u001b[0m                 \u001b[0mY\u001b[0m\u001b[0;34m=\u001b[0m\u001b[0mY\u001b[0m\u001b[0;34m,\u001b[0m\u001b[0;34m\u001b[0m\u001b[0;34m\u001b[0m\u001b[0m\n",
            "\u001b[0;32msklearn/metrics/_pairwise_distances_reduction/_argkmin.pyx\u001b[0m in \u001b[0;36msklearn.metrics._pairwise_distances_reduction._argkmin.ArgKmin64.compute\u001b[0;34m()\u001b[0m\n",
            "\u001b[0;32m/usr/local/lib/python3.10/dist-packages/threadpoolctl.py\u001b[0m in \u001b[0;36m__exit__\u001b[0;34m(self, type, value, traceback)\u001b[0m\n\u001b[1;32m    438\u001b[0m         \u001b[0;32mreturn\u001b[0m \u001b[0mself\u001b[0m\u001b[0;34m\u001b[0m\u001b[0;34m\u001b[0m\u001b[0m\n\u001b[1;32m    439\u001b[0m \u001b[0;34m\u001b[0m\u001b[0m\n\u001b[0;32m--> 440\u001b[0;31m     \u001b[0;32mdef\u001b[0m \u001b[0m__exit__\u001b[0m\u001b[0;34m(\u001b[0m\u001b[0mself\u001b[0m\u001b[0;34m,\u001b[0m \u001b[0mtype\u001b[0m\u001b[0;34m,\u001b[0m \u001b[0mvalue\u001b[0m\u001b[0;34m,\u001b[0m \u001b[0mtraceback\u001b[0m\u001b[0;34m)\u001b[0m\u001b[0;34m:\u001b[0m\u001b[0;34m\u001b[0m\u001b[0;34m\u001b[0m\u001b[0m\n\u001b[0m\u001b[1;32m    441\u001b[0m         \u001b[0mself\u001b[0m\u001b[0;34m.\u001b[0m\u001b[0mrestore_original_limits\u001b[0m\u001b[0;34m(\u001b[0m\u001b[0;34m)\u001b[0m\u001b[0;34m\u001b[0m\u001b[0;34m\u001b[0m\u001b[0m\n\u001b[1;32m    442\u001b[0m \u001b[0;34m\u001b[0m\u001b[0m\n",
            "\u001b[0;31mKeyboardInterrupt\u001b[0m: "
          ]
        }
      ],
      "source": [
        "from sklearn.metrics import accuracy_score\n",
        "\n",
        "# train and evaluate a k-NN classifier on tensor of DinoV2\n",
        "k_min = 1\n",
        "k_max = number_validation_per_classes\n",
        "\n",
        "accuracies = []\n",
        "ks = []\n",
        "\n",
        "for k in range(k_min, k_max+1):\n",
        "\n",
        "  print(f\"[INFO] evaluating k-NN classifier for k = {k}\")\n",
        "  knn = KNeighborsClassifier(n_neighbors=k, n_jobs=-1)\n",
        "  knn.fit(data_validation_tensor, label_validation_correct)\n",
        "  data_test_prediction = knn.predict(data_test_tensor)\n",
        "\n",
        "  k_accuracy = accuracy_score(label_test_correct, data_test_prediction) * 100\n",
        "\n",
        "  ks.append(k)\n",
        "  accuracies.append(k_accuracy)\n",
        "\n",
        "  # print(classification_report(label_test_correct, knn.predict(data_test), target_names=le.classes_))\n",
        "  print(f\"[INFO] Accuracy: {k_accuracy} %\\n\")"
      ]
    },
    {
      "cell_type": "code",
      "execution_count": 123,
      "metadata": {
        "colab": {
          "base_uri": "https://localhost:8080/"
        },
        "id": "cGhmnq2wbAds",
        "outputId": "e4426b84-c466-428c-f68b-9663829b0de9"
      },
      "outputs": [
        {
          "output_type": "stream",
          "name": "stdout",
          "text": [
            "[1, 2, 3, 4, 5, 6, 7, 8, 9, 10, 11, 12, 13, 14, 15, 16, 17, 18, 19, 20, 21, 22, 23, 24, 25, 26, 27, 28, 29, 30, 31, 32, 33, 34, 35, 36, 37, 38, 39, 40, 41, 42, 43, 44, 45, 46, 47, 48, 49, 50, 51, 52, 53, 54, 55, 56, 57, 58, 59, 60, 61, 62, 63, 64, 65, 66, 67, 68, 69, 70, 71, 72, 73, 74, 75, 76, 77, 78, 79, 80, 81, 82, 83, 84, 85, 86, 87, 88, 89, 90, 91, 92, 93, 94, 95, 96, 97, 98, 99, 100]\n",
            "[92.60000000000001, 90.0, 92.80000000000001, 93.0, 93.4, 94.19999999999999, 93.8, 94.6, 94.19999999999999, 94.8, 95.0, 95.0, 94.6, 94.6, 94.6, 94.8, 95.19999999999999, 94.6, 94.8, 94.6, 94.6, 94.6, 94.8, 94.8, 94.8, 94.8, 94.6, 94.6, 94.6, 94.6, 95.19999999999999, 95.0, 95.6, 95.0, 95.39999999999999, 94.8, 94.8, 94.8, 94.6, 94.6, 94.19999999999999, 94.39999999999999, 94.19999999999999, 94.19999999999999, 94.19999999999999, 94.0, 94.19999999999999, 93.8, 93.8, 93.8, 94.0, 94.19999999999999, 94.19999999999999, 94.39999999999999, 94.39999999999999, 95.0, 94.8, 94.6, 94.39999999999999, 94.39999999999999, 94.19999999999999, 94.19999999999999, 94.6, 94.8, 94.8, 94.8, 94.8, 94.6, 94.6, 94.19999999999999, 94.39999999999999, 94.19999999999999, 94.19999999999999, 94.19999999999999, 94.19999999999999, 94.19999999999999, 94.0, 94.19999999999999, 94.19999999999999, 94.19999999999999, 94.19999999999999, 94.19999999999999, 94.0, 94.19999999999999, 94.0, 94.19999999999999, 94.19999999999999, 94.19999999999999, 94.19999999999999, 94.0, 94.19999999999999, 94.0, 94.0, 94.0, 94.0, 94.19999999999999, 94.19999999999999, 94.19999999999999, 94.19999999999999, 94.39999999999999]\n",
            "Mean accuracy: 94.33400000000002\n",
            "95.6\n",
            "33\n"
          ]
        }
      ],
      "source": [
        "print(ks)\n",
        "print(accuracies)\n",
        "print(f\"Mean accuracy: {sum(accuracies)/len(ks)}\")\n",
        "\n",
        "max_accuracy = max(accuracies)\n",
        "best_k = ks[accuracies.index(max_accuracy)]\n",
        "\n",
        "print(max_accuracy)\n",
        "print(best_k)"
      ]
    },
    {
      "cell_type": "code",
      "execution_count": 124,
      "metadata": {
        "colab": {
          "base_uri": "https://localhost:8080/",
          "height": 472
        },
        "id": "bcRdlbglbG7h",
        "outputId": "faf78244-906e-418a-974e-c2be82785692"
      },
      "outputs": [
        {
          "output_type": "display_data",
          "data": {
            "text/plain": [
              "<Figure size 640x480 with 1 Axes>"
            ],
            "image/png": "[encoded data removed]"
          },
          "metadata": {}
        }
      ],
      "source": [
        "import matplotlib.pyplot as plt\n",
        "\n",
        "plt.figure()\n",
        "plt.plot(ks, accuracies, '.')\n",
        "plt.title(f\"Précision de KNN en fonction de k avec {number_validation_per_classes}-sample\")\n",
        "plt.xlabel(\"Nombre de voisin k\")\n",
        "plt.ylabel(\"Précision en %\")\n",
        "plt.show()"
      ]
    },
    {
      "cell_type": "markdown",
      "metadata": {
        "id": "SiJdFS6mlxQq"
      },
      "source": [
        "# Simulation N-samples"
      ]
    },
    {
      "cell_type": "code",
      "execution_count": 78,
      "metadata": {
        "id": "z8lC0RlysLdk"
      },
      "outputs": [],
      "source": [
        "import numpy as np\n",
        "import random\n",
        "from sklearn.metrics import accuracy_score\n",
        "import matplotlib.pyplot as plt"
      ]
    },
    {
      "cell_type": "markdown",
      "source": [
        "## Simulation"
      ],
      "metadata": {
        "id": "XMmSOL6obFkC"
      }
    },
    {
      "cell_type": "code",
      "execution_count": 114,
      "metadata": {
        "colab": {
          "base_uri": "https://localhost:8080/"
        },
        "id": "JjbRxv3olIic",
        "outputId": "c6e19199-12e7-4291-e7f7-796cb6230684"
      },
      "outputs": [
        {
          "output_type": "stream",
          "name": "stdout",
          "text": [
            "[INFO] processed 0/4999\n",
            "[INFO] processed 1000/4999\n",
            "[INFO] processed 2000/4999\n",
            "[INFO] processed 3000/4999\n",
            "[INFO] processed 4000/4999\n",
            "[INFO] Best accuracy: 72.39999999999999 % pour un k = 1\n",
            "\n",
            "[INFO] processed 1/4999\n",
            "[INFO] processed 1001/4999\n",
            "[INFO] processed 2001/4999\n",
            "[INFO] processed 3001/4999\n",
            "[INFO] processed 4001/4999\n",
            "[INFO] Best accuracy: 78.60000000000001 % pour un k = 1\n",
            "\n",
            "[INFO] processed 2/4999\n",
            "[INFO] processed 1002/4999\n",
            "[INFO] processed 2002/4999\n",
            "[INFO] processed 3002/4999\n",
            "[INFO] processed 4002/4999\n",
            "[INFO] Best accuracy: 77.8 % pour un k = 1\n",
            "\n",
            "[INFO] processed 3/4999\n",
            "[INFO] processed 1003/4999\n",
            "[INFO] processed 2003/4999\n",
            "[INFO] processed 3003/4999\n",
            "[INFO] processed 4003/4999\n",
            "[INFO] Best accuracy: 82.19999999999999 % pour un k = 3\n",
            "\n",
            "[INFO] processed 4/4999\n",
            "[INFO] processed 1004/4999\n",
            "[INFO] processed 2004/4999\n",
            "[INFO] processed 3004/4999\n",
            "[INFO] processed 4004/4999\n",
            "[INFO] Best accuracy: 87.0 % pour un k = 4\n",
            "\n",
            "[INFO] processed 5/4999\n",
            "[INFO] processed 1005/4999\n",
            "[INFO] processed 2005/4999\n",
            "[INFO] processed 3005/4999\n",
            "[INFO] processed 4005/4999\n",
            "[INFO] Best accuracy: 85.6 % pour un k = 5\n",
            "\n",
            "[INFO] processed 6/4999\n",
            "[INFO] processed 1006/4999\n",
            "[INFO] processed 2006/4999\n",
            "[INFO] processed 3006/4999\n",
            "[INFO] processed 4006/4999\n",
            "[INFO] Best accuracy: 88.2 % pour un k = 5\n",
            "\n",
            "[INFO] processed 7/4999\n",
            "[INFO] processed 1007/4999\n",
            "[INFO] processed 2007/4999\n",
            "[INFO] processed 3007/4999\n",
            "[INFO] processed 4007/4999\n",
            "[INFO] Best accuracy: 88.8 % pour un k = 8\n",
            "\n",
            "[INFO] processed 8/4999\n",
            "[INFO] processed 1008/4999\n",
            "[INFO] processed 2008/4999\n",
            "[INFO] processed 3008/4999\n",
            "[INFO] processed 4008/4999\n",
            "[INFO] Best accuracy: 89.2 % pour un k = 9\n",
            "\n",
            "[INFO] processed 9/4999\n",
            "[INFO] processed 1009/4999\n",
            "[INFO] processed 2009/4999\n",
            "[INFO] processed 3009/4999\n",
            "[INFO] processed 4009/4999\n",
            "[INFO] Best accuracy: 90.60000000000001 % pour un k = 9\n",
            "\n",
            "[INFO] processed 10/4999\n",
            "[INFO] processed 1010/4999\n",
            "[INFO] processed 2010/4999\n",
            "[INFO] processed 3010/4999\n",
            "[INFO] processed 4010/4999\n",
            "[INFO] Best accuracy: 90.2 % pour un k = 9\n",
            "\n",
            "[INFO] processed 11/4999\n",
            "[INFO] processed 1011/4999\n",
            "[INFO] processed 2011/4999\n",
            "[INFO] processed 3011/4999\n",
            "[INFO] processed 4011/4999\n",
            "[INFO] Best accuracy: 90.2 % pour un k = 9\n",
            "\n",
            "[INFO] processed 12/4999\n",
            "[INFO] processed 1012/4999\n",
            "[INFO] processed 2012/4999\n",
            "[INFO] processed 3012/4999\n",
            "[INFO] processed 4012/4999\n",
            "[INFO] Best accuracy: 91.8 % pour un k = 9\n",
            "\n",
            "[INFO] processed 13/4999\n",
            "[INFO] processed 1013/4999\n",
            "[INFO] processed 2013/4999\n",
            "[INFO] processed 3013/4999\n",
            "[INFO] processed 4013/4999\n",
            "[INFO] Best accuracy: 93.0 % pour un k = 14\n",
            "\n",
            "[INFO] processed 14/4999\n",
            "[INFO] processed 1014/4999\n",
            "[INFO] processed 2014/4999\n",
            "[INFO] processed 3014/4999\n",
            "[INFO] processed 4014/4999\n",
            "[INFO] Best accuracy: 92.2 % pour un k = 9\n",
            "\n",
            "[INFO] processed 15/4999\n",
            "[INFO] processed 1015/4999\n",
            "[INFO] processed 2015/4999\n",
            "[INFO] processed 3015/4999\n",
            "[INFO] processed 4015/4999\n",
            "[INFO] Best accuracy: 92.2 % pour un k = 16\n",
            "\n",
            "[INFO] processed 16/4999\n",
            "[INFO] processed 1016/4999\n",
            "[INFO] processed 2016/4999\n",
            "[INFO] processed 3016/4999\n",
            "[INFO] processed 4016/4999\n",
            "[INFO] Best accuracy: 93.0 % pour un k = 17\n",
            "\n",
            "[INFO] processed 17/4999\n",
            "[INFO] processed 1017/4999\n",
            "[INFO] processed 2017/4999\n",
            "[INFO] processed 3017/4999\n",
            "[INFO] processed 4017/4999\n",
            "[INFO] Best accuracy: 93.0 % pour un k = 12\n",
            "\n",
            "[INFO] processed 18/4999\n",
            "[INFO] processed 1018/4999\n",
            "[INFO] processed 2018/4999\n",
            "[INFO] processed 3018/4999\n",
            "[INFO] processed 4018/4999\n",
            "[INFO] Best accuracy: 92.60000000000001 % pour un k = 11\n",
            "\n",
            "[INFO] processed 19/4999\n",
            "[INFO] processed 1019/4999\n",
            "[INFO] processed 2019/4999\n",
            "[INFO] processed 3019/4999\n",
            "[INFO] processed 4019/4999\n",
            "[INFO] Best accuracy: 93.4 % pour un k = 11\n",
            "\n",
            "[INFO] processed 20/4999\n",
            "[INFO] processed 1020/4999\n",
            "[INFO] processed 2020/4999\n",
            "[INFO] processed 3020/4999\n",
            "[INFO] processed 4020/4999\n",
            "[INFO] Best accuracy: 93.8 % pour un k = 12\n",
            "\n",
            "[INFO] processed 21/4999\n",
            "[INFO] processed 1021/4999\n",
            "[INFO] processed 2021/4999\n",
            "[INFO] processed 3021/4999\n",
            "[INFO] processed 4021/4999\n",
            "[INFO] Best accuracy: 93.60000000000001 % pour un k = 14\n",
            "\n",
            "[INFO] processed 22/4999\n",
            "[INFO] processed 1022/4999\n",
            "[INFO] processed 2022/4999\n",
            "[INFO] processed 3022/4999\n",
            "[INFO] processed 4022/4999\n",
            "[INFO] Best accuracy: 94.19999999999999 % pour un k = 14\n",
            "\n",
            "[INFO] processed 23/4999\n",
            "[INFO] processed 1023/4999\n",
            "[INFO] processed 2023/4999\n",
            "[INFO] processed 3023/4999\n",
            "[INFO] processed 4023/4999\n",
            "[INFO] Best accuracy: 94.39999999999999 % pour un k = 14\n",
            "\n",
            "[INFO] processed 24/4999\n",
            "[INFO] processed 1024/4999\n",
            "[INFO] processed 2024/4999\n",
            "[INFO] processed 3024/4999\n",
            "[INFO] processed 4024/4999\n",
            "[INFO] Best accuracy: 94.39999999999999 % pour un k = 14\n",
            "\n",
            "[INFO] processed 25/4999\n",
            "[INFO] processed 1025/4999\n",
            "[INFO] processed 2025/4999\n",
            "[INFO] processed 3025/4999\n",
            "[INFO] processed 4025/4999\n",
            "[INFO] Best accuracy: 94.19999999999999 % pour un k = 14\n",
            "\n",
            "[INFO] processed 26/4999\n",
            "[INFO] processed 1026/4999\n",
            "[INFO] processed 2026/4999\n",
            "[INFO] processed 3026/4999\n",
            "[INFO] processed 4026/4999\n",
            "[INFO] Best accuracy: 94.39999999999999 % pour un k = 14\n",
            "\n",
            "[INFO] processed 27/4999\n",
            "[INFO] processed 1027/4999\n",
            "[INFO] processed 2027/4999\n",
            "[INFO] processed 3027/4999\n",
            "[INFO] processed 4027/4999\n",
            "[INFO] Best accuracy: 94.39999999999999 % pour un k = 15\n",
            "\n",
            "[INFO] processed 28/4999\n",
            "[INFO] processed 1028/4999\n",
            "[INFO] processed 2028/4999\n",
            "[INFO] processed 3028/4999\n",
            "[INFO] processed 4028/4999\n",
            "[INFO] Best accuracy: 94.39999999999999 % pour un k = 15\n",
            "\n",
            "[INFO] processed 29/4999\n",
            "[INFO] processed 1029/4999\n",
            "[INFO] processed 2029/4999\n",
            "[INFO] processed 3029/4999\n",
            "[INFO] processed 4029/4999\n",
            "[INFO] Best accuracy: 93.8 % pour un k = 12\n",
            "\n"
          ]
        }
      ],
      "source": [
        "max_samples = 30\n",
        "min_samples = 1\n",
        "sample_step = 0\n",
        "number_of_sample_per_step = 5\n",
        "loop_validation = 0\n",
        "number_of_tensor = 0\n",
        "\n",
        "data_validation_tensor = np.zeros((max_samples*len(id2label), 197376))\n",
        "label_validation_correct = np.zeros((max_samples*len(id2label),))\n",
        "\n",
        "sample_accuracies = np.zeros((max_samples,))\n",
        "nb_samples = np.zeros((max_samples,))\n",
        "\n",
        "for sample_step in range(1, max_samples+1):\n",
        "\n",
        "  ### Compute data validation\n",
        "\n",
        "  for cid in classe_id.keys():\n",
        "    # image_id = classe_id[cid] + random.randint(sample_step - 1, 999)\n",
        "    image_id = classe_id[cid] + sample_step - 1\n",
        "    image = data[image_id]\n",
        "\n",
        "    inputs = image_processor(image, return_tensors=\"pt\")\n",
        "\n",
        "    with torch.no_grad():\n",
        "      logits = model(**inputs).last_hidden_state.reshape(1, -1).tolist()[0]\n",
        "      id = (sample_step-1)*number_of_sample_per_step + int(cid)\n",
        "      data_validation_tensor[id] = logits\n",
        "      label_validation_correct[id] = cid\n",
        "\n",
        "    print(\"[INFO] processed {}/{}\".format(image_id, dataset[\"train\"].num_rows))\n",
        "\n",
        "  #### Fit Knn\n",
        "\n",
        "  # train and evaluate a k-NN classifier on tensor of DinoV2\n",
        "  k_min = 1\n",
        "  k_max = sample_step\n",
        "\n",
        "  accuracies = []\n",
        "  ks = []\n",
        "\n",
        "  number_of_tensor += number_of_sample_per_step\n",
        "\n",
        "\n",
        "  for k in range(k_min, k_max+1):\n",
        "\n",
        "    # print(f\"[INFO] evaluating k-NN classifier for k = {k}\")\n",
        "    knn = KNeighborsClassifier(n_neighbors=k, n_jobs=-1)\n",
        "    knn.fit(data_validation_tensor[:number_of_tensor], label_validation_correct[:number_of_tensor])\n",
        "\n",
        "    data_test_prediction = knn.predict(data_test_tensor)\n",
        "\n",
        "    k_accuracy = accuracy_score(label_test_correct, data_test_prediction) * 100\n",
        "\n",
        "    ks.append(k)\n",
        "    accuracies.append(k_accuracy)\n",
        "\n",
        "    # print(classification_report(label_test_correct, knn.predict(data_test), target_names=le.classes_))\n",
        "\n",
        "  max_accuracy = max(accuracies)\n",
        "  best_k = ks[accuracies.index(max_accuracy)]\n",
        "\n",
        "  print(f\"[INFO] Best accuracy: {max_accuracy} % pour un k = {best_k}\\n\")\n",
        "\n",
        "  sample_accuracies[sample_step-1] = max_accuracy\n",
        "  nb_samples[sample_step-1] = sample_step"
      ]
    },
    {
      "cell_type": "markdown",
      "source": [
        "## Résultats"
      ],
      "metadata": {
        "id": "_APNdha2bJOG"
      }
    },
    {
      "cell_type": "code",
      "execution_count": 116,
      "metadata": {
        "colab": {
          "base_uri": "https://localhost:8080/",
          "height": 473
        },
        "id": "-jucNrT1rheL",
        "outputId": "712a2cb6-0463-4d28-c9b1-c9d2d467fe65"
      },
      "outputs": [
        {
          "output_type": "display_data",
          "data": {
            "text/plain": [
              "<Figure size 640x480 with 1 Axes>"
            ],
            "image/png": "[encoded data removed]"
          },
          "metadata": {}
        }
      ],
      "source": [
        "plt.figure()\n",
        "plt.plot(nb_samples[:-1], sample_accuracies[:-1], '.')\n",
        "plt.title(f\"Précision de KNN en fonction du nombre d'échantillons par classe\")\n",
        "plt.xlabel(\"Nombre d'échantillons par classe\")\n",
        "plt.ylabel(\"Précision en %\")\n",
        "plt.show()"
      ]
    },
    {
      "cell_type": "markdown",
      "metadata": {
        "id": "LrxiemFb8_tU"
      },
      "source": [
        "# PyTorch pre-trained models"
      ]
    },
    {
      "cell_type": "code",
      "execution_count": null,
      "metadata": {
        "colab": {
          "base_uri": "https://localhost:8080/"
        },
        "id": "s158WuOJ9EU8",
        "outputId": "61cdf8ca-902e-4f1a-e46d-ff72c8451a16"
      },
      "outputs": [
        {
          "name": "stderr",
          "output_type": "stream",
          "text": [
            "/usr/local/lib/python3.10/dist-packages/torchvision/models/_utils.py:208: UserWarning: The parameter 'pretrained' is deprecated since 0.13 and may be removed in the future, please use 'weights' instead.\n",
            "  warnings.warn(\n",
            "/usr/local/lib/python3.10/dist-packages/torchvision/models/_utils.py:223: UserWarning: Arguments other than a weight enum or `None` for 'weights' are deprecated since 0.13 and may be removed in the future. The current behavior is equivalent to passing `weights=ResNet18_Weights.IMAGENET1K_V1`. You can also use `weights=ResNet18_Weights.DEFAULT` to get the most up-to-date weights.\n",
            "  warnings.warn(msg)\n",
            "Downloading: \"https://download.pytorch.org/models/resnet18-f37072fd.pth\" to /root/.cache/torch/hub/checkpoints/resnet18-f37072fd.pth\n",
            "100%|██████████| 44.7M/44.7M [00:00<00:00, 74.3MB/s]\n"
          ]
        }
      ],
      "source": [
        "import torchvision.models as models\n",
        "\n",
        "resnet18 = models.resnet18(pretrained=True)"
      ]
    }
  ],
  "metadata": {
    "colab": {
      "collapsed_sections": [
        "lRdYnKBRrQBD",
        "HoVBx4B8tCIE",
        "Pf-46f5HsvOG",
        "-VU9Qnd5szcC",
        "rY1Tqq30s4Hv",
        "ulPm5br1rTVt",
        "HaN-z2ebrZr2",
        "0t3g5yqHep4R",
        "ji1hgfZDNGK3",
        "LrxiemFb8_tU"
      ],
      "provenance": []
    },
    "kernelspec": {
      "display_name": "Python 3",
      "name": "python3"
    },
    "language_info": {
      "name": "python"
    }
  },
  "nbformat": 4,
  "nbformat_minor": 0
}